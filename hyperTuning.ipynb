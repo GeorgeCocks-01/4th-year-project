{
 "cells": [
  {
   "cell_type": "code",
   "execution_count": 34,
   "metadata": {},
   "outputs": [],
   "source": [
    "# imports\n",
    "import numpy as np\n",
    "import keras_tuner as kt\n",
    "from keras.layers import Dense\n",
    "from keras.optimizers import Adam\n",
    "from keras.models import Sequential\n",
    "from keras.callbacks import EarlyStopping\n",
    "from nnTrain import getSplitData\n",
    "from selectionPlots import findAllFilesInPath"
   ]
  },
  {
   "cell_type": "code",
   "execution_count": 35,
   "metadata": {},
   "outputs": [],
   "source": [
    "def model_builder(hp):\n",
    "  model = Sequential()\n",
    "  hp_layer_1 = hp.Int(\"layer_1\", min_value = 22, max_value = 26, step = 2)\n",
    "  hp_layer_2 = hp.Int(\"layer_2\", min_value = 12, max_value = 16, step = 2)\n",
    "  hp_layer_3 = hp.Int(\"layer_3\", min_value = 10, max_value = 16, step = 2)\n",
    "  model.add(Dense(units = hp_layer_1, input_dim = 13, activation = \"relu\")) # Hidden layer\n",
    "  model.add(Dense(units = hp_layer_2, activation = \"relu\")) # Hidden layer\n",
    "  model.add(Dense(units = hp_layer_3, activation = \"relu\")) # Hidden layer\n",
    "  model.add(Dense(1, activation = \"sigmoid\")) # 2 output nodes for 2 classes\n",
    "\n",
    "  learning_rate = hp.Float(\"lr\", min_value = 1e-4, max_value = 1e-2, sampling = \"log\")\n",
    "\n",
    "  # Compile the model\n",
    "  model.compile(loss = \"binary_crossentropy\", optimizer = Adam(learning_rate = learning_rate),\n",
    "                metrics = [\"accuracy\"])\n",
    "\n",
    "  return model"
   ]
  },
  {
   "cell_type": "code",
   "execution_count": 36,
   "metadata": {},
   "outputs": [],
   "source": [
    "sampleNames = findAllFilesInPath(\"*.root\", \"nTupleGroups/\")\n",
    "nTupleSamples = dict.fromkeys(sampleNames, 0)\n",
    "nTupleSamples[\"nTupleGroups/signalGroup.root\"] = 1\n",
    "\n",
    "# Tuple of variables to get from each file\n",
    "variables = [\"tauPtSum\", \"zMassSum\", \"metPt\", \"deltaRll\", \"deltaRtt\", \"deltaRttll\", \"deltaEtall\", \"deltaEtatt\",\n",
    "             \"nJets\", \"deltaPhill\", \"deltaPhitt\", \"deltaPhilltt\", \"mmc\"]\n",
    "\n",
    "cut = \"2lep\"\n",
    "X_train, X_test, y_train, y_test = getSplitData(nTupleSamples, variables, cut, 0)"
   ]
  },
  {
   "cell_type": "code",
   "execution_count": 37,
   "metadata": {},
   "outputs": [],
   "source": [
    "# Create the tuner\n",
    "tuner = kt.Hyperband(model_builder,\n",
    "                      objective = \"val_accuracy\",\n",
    "                      max_epochs = 10,\n",
    "                      factor = 3,\n",
    "                      directory = \"hyperTuning\",\n",
    "                      project_name = \"hyperTuning\" + cut,\n",
    "                      overwrite = True)\n",
    "\n",
    "stop_early = EarlyStopping(monitor = \"val_loss\", patience = 5)"
   ]
  },
  {
   "cell_type": "code",
   "execution_count": 38,
   "metadata": {},
   "outputs": [
    {
     "name": "stdout",
     "output_type": "stream",
     "text": [
      "Trial 30 Complete [00h 00m 06s]\n",
      "val_accuracy: 0.827307939529419\n",
      "\n",
      "Best val_accuracy So Far: 0.8395739197731018\n",
      "Total elapsed time: 00h 01m 20s\n",
      "INFO:tensorflow:Oracle triggered exit\n"
     ]
    }
   ],
   "source": [
    "# 0.25*0.8 = 0.2 to get 20% of the data for validation\n",
    "tuner.search(X_train, y_train, epochs = 10, validation_split = 0.25, callbacks = [stop_early])"
   ]
  },
  {
   "cell_type": "code",
   "execution_count": 42,
   "metadata": {},
   "outputs": [
    {
     "name": "stdout",
     "output_type": "stream",
     "text": [
      "The hyperparameter search is complete. The optimal number of units were\n",
      "layer 1: 22 \n",
      "layer 2: 14 \n",
      "layer 3: 14 \n",
      "Learning rate: 0.008107639036535629\n"
     ]
    }
   ],
   "source": [
    "# Get the optimal hyperparameters\n",
    "best_hps = tuner.get_best_hyperparameters(num_trials = 1)[0]\n",
    "# print(tuner.results_summary(num_trials = 1))\n",
    "# print(\"---\")\n",
    "print(\"The hyperparameter search is complete. The optimal number of units were\\nlayer 1:\", best_hps.get(\"layer_1\"),\n",
    "      \"\\nlayer 2:\", best_hps.get(\"layer_2\"), \"\\nlayer 3:\", best_hps.get(\"layer_3\"), \"\\nLearning rate:\",\n",
    "      best_hps.get(\"lr\"))"
   ]
  }
 ],
 "metadata": {
  "kernelspec": {
   "display_name": "Python 3",
   "language": "python",
   "name": "python3"
  },
  "language_info": {
   "codemirror_mode": {
    "name": "ipython",
    "version": 3
   },
   "file_extension": ".py",
   "mimetype": "text/x-python",
   "name": "python",
   "nbconvert_exporter": "python",
   "pygments_lexer": "ipython3",
   "version": "3.10.6"
  },
  "orig_nbformat": 4,
  "vscode": {
   "interpreter": {
    "hash": "e7370f93d1d0cde622a1f8e1c04877d8463912d04d973331ad4851f04de6915a"
   }
  }
 },
 "nbformat": 4,
 "nbformat_minor": 2
}

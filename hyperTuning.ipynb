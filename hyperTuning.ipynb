{
 "cells": [
  {
   "cell_type": "code",
   "execution_count": 1,
   "metadata": {},
   "outputs": [
    {
     "name": "stderr",
     "output_type": "stream",
     "text": [
      "2023-02-14 17:32:15.000411: I tensorflow/core/platform/cpu_feature_guard.cc:193] This TensorFlow binary is optimized with oneAPI Deep Neural Network Library (oneDNN) to use the following CPU instructions in performance-critical operations:  AVX2 AVX512F AVX512_VNNI FMA\n",
      "To enable them in other operations, rebuild TensorFlow with the appropriate compiler flags.\n",
      "2023-02-14 17:32:15.253646: I tensorflow/core/util/port.cc:104] oneDNN custom operations are on. You may see slightly different numerical results due to floating-point round-off errors from different computation orders. To turn them off, set the environment variable `TF_ENABLE_ONEDNN_OPTS=0`.\n",
      "2023-02-14 17:32:15.263570: W tensorflow/compiler/xla/stream_executor/platform/default/dso_loader.cc:64] Could not load dynamic library 'libcudart.so.11.0'; dlerror: libcudart.so.11.0: cannot open shared object file: No such file or directory; LD_LIBRARY_PATH: /home/george/root/lib\n",
      "2023-02-14 17:32:15.263597: I tensorflow/compiler/xla/stream_executor/cuda/cudart_stub.cc:29] Ignore above cudart dlerror if you do not have a GPU set up on your machine.\n",
      "2023-02-14 17:32:15.830993: W tensorflow/compiler/xla/stream_executor/platform/default/dso_loader.cc:64] Could not load dynamic library 'libnvinfer.so.7'; dlerror: libnvinfer.so.7: cannot open shared object file: No such file or directory; LD_LIBRARY_PATH: /home/george/root/lib\n",
      "2023-02-14 17:32:15.831151: W tensorflow/compiler/xla/stream_executor/platform/default/dso_loader.cc:64] Could not load dynamic library 'libnvinfer_plugin.so.7'; dlerror: libnvinfer_plugin.so.7: cannot open shared object file: No such file or directory; LD_LIBRARY_PATH: /home/george/root/lib\n",
      "2023-02-14 17:32:15.831161: W tensorflow/compiler/tf2tensorrt/utils/py_utils.cc:38] TF-TRT Warning: Cannot dlopen some TensorRT libraries. If you would like to use Nvidia GPU with TensorRT, please make sure the missing libraries mentioned above are installed properly.\n"
     ]
    },
    {
     "name": "stdout",
     "output_type": "stream",
     "text": [
      "Welcome to JupyROOT 6.26/06\n"
     ]
    },
    {
     "name": "stderr",
     "output_type": "stream",
     "text": [
      "/home/george/root/lib/ROOT/_facade.py:153: TqdmWarning: IProgress not found. Please update jupyter and ipywidgets. See https://ipywidgets.readthedocs.io/en/stable/user_install.html\n",
      "  return _orig_ihook(name, *args, **kwds)\n"
     ]
    }
   ],
   "source": [
    "# imports\n",
    "import numpy as np\n",
    "import keras_tuner as kt\n",
    "from keras.layers import Dense\n",
    "from keras.models import Sequential\n",
    "from keras.callbacks import EarlyStopping\n",
    "from nnTrain import getSplitData\n",
    "from selectionPlots import findAllFilesInPath"
   ]
  },
  {
   "cell_type": "code",
   "execution_count": 2,
   "metadata": {},
   "outputs": [],
   "source": [
    "def model_builder(hp):\n",
    "  model = Sequential()\n",
    "  hp_layer_1 = hp.Int(\"layer_1\", min_value = 12, max_value = 30, step = 2)\n",
    "  hp_layer_2 = hp.Int(\"layer_2\", min_value = 10, max_value = 18, step = 2)\n",
    "  hp_layer_3 = hp.Int(\"layer_3\", min_value = 10, max_value = 16, step = 2)\n",
    "  model.add(Dense(units = hp_layer_1, input_dim = 13, activation = \"relu\")) # Hidden layer\n",
    "  model.add(Dense(units = hp_layer_2, activation = \"relu\")) # Hidden layer\n",
    "  model.add(Dense(units = hp_layer_3, activation = \"relu\")) # Hidden layer\n",
    "  model.add(Dense(1, activation = \"sigmoid\")) # 2 output nodes for 2 classes\n",
    "\n",
    "  model.compile(loss = \"binary_crossentropy\", optimizer = \"adam\", metrics = [\"accuracy\"]) # Compile the model\n",
    "\n",
    "  return model"
   ]
  },
  {
   "cell_type": "code",
   "execution_count": 3,
   "metadata": {},
   "outputs": [],
   "source": [
    "sampleNames = findAllFilesInPath(\"*.root\", \"nTupleGroups/\")\n",
    "nTupleSamples = dict.fromkeys(sampleNames, 0)\n",
    "nTupleSamples[\"nTupleGroups/signalGroup.root\"] = 1\n",
    "\n",
    "# Tuple of variables to get from each file\n",
    "variables = [\"tauPtSum\", \"zMassSum\", \"metPt\", \"deltaRll\", \"deltaRtt\", \"deltaRttll\", \"deltaEtall\", \"deltaEtatt\",\n",
    "             \"nJets\", \"deltaPhill\", \"deltaPhitt\", \"deltaPhilltt\", \"mmc\"]\n",
    "\n",
    "cut = \"2lep\"\n",
    "X_train, X_test, y_train, y_test = getSplitData(nTupleSamples, variables, cut, 0)"
   ]
  },
  {
   "cell_type": "code",
   "execution_count": 4,
   "metadata": {},
   "outputs": [
    {
     "name": "stderr",
     "output_type": "stream",
     "text": [
      "2023-02-14 17:33:28.861343: I tensorflow/compiler/xla/stream_executor/cuda/cuda_gpu_executor.cc:967] could not open file to read NUMA node: /sys/bus/pci/devices/0000:01:00.0/numa_node\n",
      "Your kernel may have been built without NUMA support.\n",
      "2023-02-14 17:33:28.861478: W tensorflow/compiler/xla/stream_executor/platform/default/dso_loader.cc:64] Could not load dynamic library 'libcudart.so.11.0'; dlerror: libcudart.so.11.0: cannot open shared object file: No such file or directory; LD_LIBRARY_PATH: /home/george/root/lib\n",
      "2023-02-14 17:33:28.861533: W tensorflow/compiler/xla/stream_executor/platform/default/dso_loader.cc:64] Could not load dynamic library 'libcublas.so.11'; dlerror: libcublas.so.11: cannot open shared object file: No such file or directory; LD_LIBRARY_PATH: /home/george/root/lib\n",
      "2023-02-14 17:33:28.861578: W tensorflow/compiler/xla/stream_executor/platform/default/dso_loader.cc:64] Could not load dynamic library 'libcublasLt.so.11'; dlerror: libcublasLt.so.11: cannot open shared object file: No such file or directory; LD_LIBRARY_PATH: /home/george/root/lib\n",
      "2023-02-14 17:33:28.861651: W tensorflow/compiler/xla/stream_executor/platform/default/dso_loader.cc:64] Could not load dynamic library 'libcufft.so.10'; dlerror: libcufft.so.10: cannot open shared object file: No such file or directory; LD_LIBRARY_PATH: /home/george/root/lib\n",
      "2023-02-14 17:33:28.861749: W tensorflow/compiler/xla/stream_executor/platform/default/dso_loader.cc:64] Could not load dynamic library 'libcurand.so.10'; dlerror: libcurand.so.10: cannot open shared object file: No such file or directory; LD_LIBRARY_PATH: /home/george/root/lib\n",
      "2023-02-14 17:33:28.861807: W tensorflow/compiler/xla/stream_executor/platform/default/dso_loader.cc:64] Could not load dynamic library 'libcusolver.so.11'; dlerror: libcusolver.so.11: cannot open shared object file: No such file or directory; LD_LIBRARY_PATH: /home/george/root/lib\n",
      "2023-02-14 17:33:28.861863: W tensorflow/compiler/xla/stream_executor/platform/default/dso_loader.cc:64] Could not load dynamic library 'libcusparse.so.11'; dlerror: libcusparse.so.11: cannot open shared object file: No such file or directory; LD_LIBRARY_PATH: /home/george/root/lib\n",
      "2023-02-14 17:33:28.861923: W tensorflow/compiler/xla/stream_executor/platform/default/dso_loader.cc:64] Could not load dynamic library 'libcudnn.so.8'; dlerror: libcudnn.so.8: cannot open shared object file: No such file or directory; LD_LIBRARY_PATH: /home/george/root/lib\n",
      "2023-02-14 17:33:28.861957: W tensorflow/core/common_runtime/gpu/gpu_device.cc:1934] Cannot dlopen some GPU libraries. Please make sure the missing libraries mentioned above are installed properly if you would like to use GPU. Follow the guide at https://www.tensorflow.org/install/gpu for how to download and setup the required libraries for your platform.\n",
      "Skipping registering GPU devices...\n",
      "2023-02-14 17:33:28.863128: I tensorflow/core/platform/cpu_feature_guard.cc:193] This TensorFlow binary is optimized with oneAPI Deep Neural Network Library (oneDNN) to use the following CPU instructions in performance-critical operations:  AVX2 AVX512F AVX512_VNNI FMA\n",
      "To enable them in other operations, rebuild TensorFlow with the appropriate compiler flags.\n"
     ]
    }
   ],
   "source": [
    "# Create the tuner\n",
    "tuner = kt.Hyperband(model_builder,\n",
    "                      objective = \"val_accuracy\",\n",
    "                      max_epochs = 10,\n",
    "                      factor = 3,\n",
    "                      directory = \"hyperTuning\",\n",
    "                      project_name = \"hyperTuning\" + cut,\n",
    "                      overwrite = True)\n",
    "\n",
    "stop_early = EarlyStopping(monitor = \"val_loss\", patience = 5)"
   ]
  },
  {
   "cell_type": "code",
   "execution_count": 5,
   "metadata": {},
   "outputs": [
    {
     "name": "stdout",
     "output_type": "stream",
     "text": [
      "Trial 30 Complete [00h 00m 05s]\n",
      "val_accuracy: 0.8227888941764832\n",
      "\n",
      "Best val_accuracy So Far: 0.8321498036384583\n",
      "Total elapsed time: 00h 01m 16s\n",
      "INFO:tensorflow:Oracle triggered exit\n"
     ]
    }
   ],
   "source": [
    "# 0.25*0.8 = 0.2 to get 20% of the data for validation\n",
    "tuner.search(X_train, y_train, epochs = 10, validation_split = 0.25, callbacks = [stop_early])"
   ]
  },
  {
   "cell_type": "code",
   "execution_count": 17,
   "metadata": {},
   "outputs": [
    {
     "name": "stdout",
     "output_type": "stream",
     "text": [
      "Results summary\n",
      "Results in hyperTuning/hyperTuning2lep\n",
      "Showing 1 best trials\n",
      "<keras_tuner.engine.objective.Objective object at 0x7fc8f4edc5b0>\n",
      "Trial summary\n",
      "Hyperparameters:\n",
      "layer_1: 22\n",
      "layer_2: 16\n",
      "layer_3: 10\n",
      "tuner/epochs: 10\n",
      "tuner/initial_epoch: 0\n",
      "tuner/bracket: 0\n",
      "tuner/round: 0\n",
      "Score: 0.8321498036384583\n"
     ]
    },
    {
     "ename": "AttributeError",
     "evalue": "'NoneType' object has no attribute 'get'",
     "output_type": "error",
     "traceback": [
      "\u001b[0;31m---------------------------------------------------------------------------\u001b[0m",
      "\u001b[0;31mAttributeError\u001b[0m                            Traceback (most recent call last)",
      "Cell \u001b[0;32mIn [17], line 3\u001b[0m\n\u001b[1;32m      1\u001b[0m \u001b[39m# Get the optimal hyperparameters\u001b[39;00m\n\u001b[1;32m      2\u001b[0m best_hps \u001b[39m=\u001b[39m tuner\u001b[39m.\u001b[39mget_best_hyperparameters(num_trials \u001b[39m=\u001b[39m \u001b[39m1\u001b[39m)[\u001b[39m0\u001b[39m]\n\u001b[0;32m----> 3\u001b[0m \u001b[39mprint\u001b[39m(tuner\u001b[39m.\u001b[39mresults_summary(num_trials \u001b[39m=\u001b[39m \u001b[39m1\u001b[39m)\u001b[39m.\u001b[39mget(\u001b[39m\"\u001b[39m\u001b[39mScore\u001b[39m\u001b[39m\"\u001b[39m))\n\u001b[1;32m      4\u001b[0m \u001b[39mprint\u001b[39m(\u001b[39m\"\u001b[39m\u001b[39m---\u001b[39m\u001b[39m\"\u001b[39m)\n\u001b[1;32m      5\u001b[0m \u001b[39mprint\u001b[39m(\u001b[39m\"\u001b[39m\u001b[39mThe hyperparameter search is complete. The optimal number of units were\u001b[39m\u001b[39m\\n\u001b[39;00m\u001b[39mlayer 1:\u001b[39m\u001b[39m\"\u001b[39m, best_hps\u001b[39m.\u001b[39mget(\u001b[39m\"\u001b[39m\u001b[39mlayer_1\u001b[39m\u001b[39m\"\u001b[39m),\n\u001b[1;32m      6\u001b[0m       \u001b[39m\"\u001b[39m\u001b[39m\\n\u001b[39;00m\u001b[39mlayer 2:\u001b[39m\u001b[39m\"\u001b[39m, best_hps\u001b[39m.\u001b[39mget(\u001b[39m\"\u001b[39m\u001b[39mlayer_2\u001b[39m\u001b[39m\"\u001b[39m), \u001b[39m\"\u001b[39m\u001b[39m\\n\u001b[39;00m\u001b[39mlayer 3:\u001b[39m\u001b[39m\"\u001b[39m, best_hps\u001b[39m.\u001b[39mget(\u001b[39m\"\u001b[39m\u001b[39mlayer_3\u001b[39m\u001b[39m\"\u001b[39m))\n",
      "\u001b[0;31mAttributeError\u001b[0m: 'NoneType' object has no attribute 'get'"
     ]
    }
   ],
   "source": [
    "# Get the optimal hyperparameters\n",
    "best_hps = tuner.get_best_hyperparameters(num_trials = 1)[0]\n",
    "# print(tuner.results_summary(num_trials = 1))\n",
    "# print(\"---\")\n",
    "print(\"The hyperparameter search is complete. The optimal number of units were\\nlayer 1:\", best_hps.get(\"layer_1\"),\n",
    "      \"\\nlayer 2:\", best_hps.get(\"layer_2\"), \"\\nlayer 3:\", best_hps.get(\"layer_3\"))"
   ]
  }
 ],
 "metadata": {
  "kernelspec": {
   "display_name": "Python 3",
   "language": "python",
   "name": "python3"
  },
  "language_info": {
   "codemirror_mode": {
    "name": "ipython",
    "version": 3
   },
   "file_extension": ".py",
   "mimetype": "text/x-python",
   "name": "python",
   "nbconvert_exporter": "python",
   "pygments_lexer": "ipython3",
   "version": "3.10.6"
  },
  "orig_nbformat": 4,
  "vscode": {
   "interpreter": {
    "hash": "e7370f93d1d0cde622a1f8e1c04877d8463912d04d973331ad4851f04de6915a"
   }
  }
 },
 "nbformat": 4,
 "nbformat_minor": 2
}

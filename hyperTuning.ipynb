{
 "cells": [
  {
   "cell_type": "code",
   "execution_count": 72,
   "metadata": {},
   "outputs": [],
   "source": [
    "# imports\n",
    "import numpy as np\n",
    "import keras_tuner as kt\n",
    "from keras.layers import Dense\n",
    "from keras.optimizers import Adam\n",
    "from keras.models import Sequential\n",
    "from keras.callbacks import EarlyStopping\n",
    "from nnTrain import getSplitData\n",
    "from selectionPlots import findAllFilesInPath"
   ]
  },
  {
   "cell_type": "code",
   "execution_count": 78,
   "metadata": {},
   "outputs": [],
   "source": [
    "def model_builder(hp):\n",
    "  model = Sequential()\n",
    "  ac = hp.Choice(\"activation\", [\"relu\", \"tanh\", \"elu\"])\n",
    "\n",
    "  hp_layer_1 = hp.Int(\"layer_1\", min_value = 20, max_value = 26, step = 2)\n",
    "  model.add(Dense(units = hp_layer_1, input_dim = 13, activation = ac)) # 1st Hidden layer\n",
    "\n",
    "  for i in range(hp.Int(\"num_layers\", 2, 6)):\n",
    "    model.add(Dense(units = hp.Int(f\"units_{i}\", min_value = 14, max_value = 30, step = 2),\n",
    "                    activation = ac)) # Hidden layer\n",
    "\n",
    "  model.add(Dense(1, activation = \"sigmoid\"))\n",
    "\n",
    "  learning_rate = hp.Float(\"lr\", min_value = 1e-4, max_value = 1e-2, sampling = \"log\")\n",
    "\n",
    "  # Compile the model\n",
    "  model.compile(loss = \"binary_crossentropy\", optimizer = Adam(learning_rate = learning_rate),\n",
    "                metrics = [\"accuracy\"])\n",
    "\n",
    "  return model"
   ]
  },
  {
   "cell_type": "code",
   "execution_count": 79,
   "metadata": {},
   "outputs": [],
   "source": [
    "sampleNames = findAllFilesInPath(\"*.root\", \"nTupleGroups/\")\n",
    "nTupleSamples = dict.fromkeys(sampleNames, 0)\n",
    "nTupleSamples[\"nTupleGroups/signalGroup.root\"] = 1\n",
    "\n",
    "# Tuple of variables to get from each file\n",
    "variables = [\"tauPtSum\", \"zMassSum\", \"metPt\", \"deltaRll\", \"deltaRtt\", \"deltaRttll\", \"deltaEtall\", \"deltaEtatt\",\n",
    "             \"nJets\", \"deltaPhill\", \"deltaPhitt\", \"deltaPhilltt\", \"mmc\"]\n",
    "\n",
    "cut = \"2lep\"\n",
    "X_train, X_test, y_train, y_test = getSplitData(nTupleSamples, variables, cut, 0)"
   ]
  },
  {
   "cell_type": "code",
   "execution_count": 80,
   "metadata": {},
   "outputs": [],
   "source": [
    "# Create the tuner\n",
    "tuner = kt.Hyperband(model_builder,\n",
    "                      objective = \"val_accuracy\",\n",
    "                      max_epochs = 30,\n",
    "                      factor = 3,\n",
    "                      directory = \"hyperTuning\",\n",
    "                      project_name = \"hyperTuning\" + cut,\n",
    "                      overwrite = True)\n",
    "\n",
    "stop_early = EarlyStopping(monitor = \"val_loss\", patience = 5)"
   ]
  },
  {
   "cell_type": "code",
   "execution_count": 81,
   "metadata": {},
   "outputs": [
    {
     "name": "stdout",
     "output_type": "stream",
     "text": [
      "Trial 90 Complete [00h 00m 06s]\n",
      "val_accuracy: 0.8279535174369812\n",
      "\n",
      "Best val_accuracy So Far: 0.8337637186050415\n",
      "Total elapsed time: 00h 05m 00s\n",
      "INFO:tensorflow:Oracle triggered exit\n"
     ]
    }
   ],
   "source": [
    "# 0.25*0.8 = 0.2 to get 20% of the data for validation\n",
    "tuner.search(X_train, y_train, epochs = 10, validation_split = 0.25, callbacks = [stop_early])"
   ]
  },
  {
   "cell_type": "code",
   "execution_count": 82,
   "metadata": {},
   "outputs": [
    {
     "name": "stdout",
     "output_type": "stream",
     "text": [
      "The hyperparameter search is complete. The optimal number of layers was: 3\n",
      "layer 0 : 22 elu\n",
      "layer 1 : 18 elu\n",
      "layer 2 : 18 elu\n",
      "Learning rate: 0.004537750100817641\n"
     ]
    }
   ],
   "source": [
    "# Get the optimal hyperparameters\n",
    "best_hps = tuner.get_best_hyperparameters(num_trials = 1)[0]\n",
    "\n",
    "print(\"The hyperparameter search is complete. The optimal number of layers was:\", best_hps.get(\"num_layers\"))\n",
    "\n",
    "for i in range(best_hps.get(\"num_layers\")):\n",
    "  print(\"layer\", i, \":\", best_hps.get(f\"units_{i}\"), best_hps.get(\"activation\"))\n",
    "\n",
    "print(\"Learning rate:\", best_hps.get(\"lr\"))"
   ]
  }
 ],
 "metadata": {
  "kernelspec": {
   "display_name": "Python 3",
   "language": "python",
   "name": "python3"
  },
  "language_info": {
   "codemirror_mode": {
    "name": "ipython",
    "version": 3
   },
   "file_extension": ".py",
   "mimetype": "text/x-python",
   "name": "python",
   "nbconvert_exporter": "python",
   "pygments_lexer": "ipython3",
   "version": "3.10.6"
  },
  "orig_nbformat": 4,
  "vscode": {
   "interpreter": {
    "hash": "e7370f93d1d0cde622a1f8e1c04877d8463912d04d973331ad4851f04de6915a"
   }
  }
 },
 "nbformat": 4,
 "nbformat_minor": 2
}

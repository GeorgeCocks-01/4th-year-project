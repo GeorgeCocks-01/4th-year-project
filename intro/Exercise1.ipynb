{
 "cells": [
  {
   "cell_type": "markdown",
   "metadata": {
    "slideshow": {
     "slide_type": "slide"
    }
   },
   "source": [
    "# Exercise 1\n",
    "## Task 1 Programming exercise I\n",
    "\n",
    "Try to work the following exercises to comprehend the ROOT introduction."
   ]
  },
  {
   "cell_type": "code",
   "execution_count": 2,
   "metadata": {},
   "outputs": [
    {
     "ename": "ModuleNotFoundError",
     "evalue": "No module named 'ROOT'",
     "output_type": "error",
     "traceback": [
      "\u001b[0;31m---------------------------------------------------------------------------\u001b[0m",
      "\u001b[0;31mModuleNotFoundError\u001b[0m                       Traceback (most recent call last)",
      "Cell \u001b[0;32mIn [2], line 1\u001b[0m\n\u001b[0;32m----> 1\u001b[0m \u001b[39mimport\u001b[39;00m \u001b[39mROOT\u001b[39;00m\n\u001b[1;32m      2\u001b[0m \u001b[39mfrom\u001b[39;00m \u001b[39mROOT\u001b[39;00m \u001b[39mimport\u001b[39;00m TH1F, TH2F, TRandom3, TCanvas\n",
      "\u001b[0;31mModuleNotFoundError\u001b[0m: No module named 'ROOT'"
     ]
    }
   ],
   "source": [
    "import ROOT\n",
    "from ROOT import TH1F, TH2F, TRandom3, TCanvas"
   ]
  },
  {
   "cell_type": "markdown",
   "metadata": {},
   "source": [
    "### Task 1.1\n",
    "Print integers from 0 to 15 using a `for`-loop. \n"
   ]
  },
  {
   "cell_type": "code",
   "execution_count": null,
   "metadata": {},
   "outputs": [
    {
     "name": "stdout",
     "output_type": "stream",
     "text": [
      "0\n",
      "1\n",
      "2\n",
      "3\n",
      "4\n",
      "5\n",
      "6\n",
      "7\n",
      "8\n",
      "9\n",
      "10\n",
      "11\n",
      "12\n",
      "13\n",
      "14\n",
      "15\n"
     ]
    }
   ],
   "source": [
    "#Task 1.1\n",
    "for i in range(0, 16):\n",
    "    print(i)"
   ]
  },
  {
   "cell_type": "markdown",
   "metadata": {},
   "source": [
    "### Task 1.2\n",
    "Calculate the sum of the first 15 integers.\n"
   ]
  },
  {
   "cell_type": "code",
   "execution_count": null,
   "metadata": {},
   "outputs": [
    {
     "name": "stdout",
     "output_type": "stream",
     "text": [
      "120\n"
     ]
    }
   ],
   "source": [
    "#Task 1.2\n",
    "sum = 0\n",
    "for i in range (1, 16):\n",
    "    sum += i\n",
    "print(sum)"
   ]
  },
  {
   "cell_type": "markdown",
   "metadata": {},
   "source": [
    "### Task 1.3\n",
    "Now only print the odd integers from 0 to 15."
   ]
  },
  {
   "cell_type": "code",
   "execution_count": null,
   "metadata": {},
   "outputs": [
    {
     "name": "stdout",
     "output_type": "stream",
     "text": [
      "1\n",
      "3\n",
      "5\n",
      "7\n",
      "9\n",
      "11\n",
      "13\n",
      "15\n"
     ]
    }
   ],
   "source": [
    "#Task 1.3\n",
    "sum = 0\n",
    "for i in range(0, 16):\n",
    "    if i%2 != 0:\n",
    "        print(i)"
   ]
  },
  {
   "cell_type": "markdown",
   "metadata": {},
   "source": [
    "### Task 1.4\n",
    "Only print the odd integers from 0 to 15. At number 3, print a comment (e.g. `I'm at number 3!`). "
   ]
  },
  {
   "cell_type": "code",
   "execution_count": null,
   "metadata": {},
   "outputs": [
    {
     "name": "stdout",
     "output_type": "stream",
     "text": [
      "0\n",
      "1\n",
      "2\n",
      "I'm at number 3!\n",
      "4\n",
      "5\n",
      "6\n",
      "7\n",
      "8\n",
      "9\n",
      "10\n",
      "11\n",
      "12\n",
      "13\n",
      "14\n",
      "15\n"
     ]
    }
   ],
   "source": [
    "#Task 1.4\n",
    "for i in range(0, 16):\n",
    "    if i == 3:\n",
    "        print(\"I'm at number 3!\")\n",
    "    else:\n",
    "        print(i)"
   ]
  },
  {
   "cell_type": "markdown",
   "metadata": {},
   "source": [
    "### Task 1.5\n",
    "Create a histogram with 16 bins between -0.5 and 15.5, fill all odd integers, and draw the histogram. Why are the bin borders at half-integers?\n"
   ]
  },
  {
   "cell_type": "code",
   "execution_count": 65,
   "metadata": {},
   "outputs": [
    {
     "name": "stdout",
     "output_type": "stream",
     "text": [
      "TH1.Print Name  = 1.5, Entries= 0, Total sum= 0\n",
      " fSumw[0]=0, x=-1\n",
      " fSumw[1]=0, x=0\n",
      " fSumw[2]=0, x=1\n",
      " fSumw[3]=0, x=2\n",
      " fSumw[4]=0, x=3\n",
      " fSumw[5]=0, x=4\n",
      " fSumw[6]=0, x=5\n",
      " fSumw[7]=0, x=6\n",
      " fSumw[8]=0, x=7\n",
      " fSumw[9]=0, x=8\n",
      " fSumw[10]=0, x=9\n",
      " fSumw[11]=0, x=10\n",
      " fSumw[12]=0, x=11\n",
      " fSumw[13]=0, x=12\n",
      " fSumw[14]=0, x=13\n",
      " fSumw[15]=0, x=14\n",
      " fSumw[16]=0, x=15\n",
      " fSumw[17]=0, x=16\n"
     ]
    },
    {
     "data": {
      "image/png": "[encoded data removed]",
      "text/plain": [
       "<IPython.core.display.Image object>"
      ]
     },
     "metadata": {},
     "output_type": "display_data"
    }
   ],
   "source": [
    "#Task 1.5\n",
    "import ROOT\n",
    "hist = ROOT.TH1F(\"1.5\", \"task 1.5\", 16, -0.5, 15.5)\n",
    "hist.Print(\"all\")\n",
    "for i in range(0, 16):\n",
    "  if i%2 != 0:\n",
    "    hist.Fill(i)\n",
    "c = ROOT.TCanvas()\n",
    "hist.Draw()\n",
    "c.Draw()"
   ]
  },
  {
   "cell_type": "markdown",
   "metadata": {
    "slideshow": {
     "slide_type": "slide"
    }
   },
   "source": [
    "## Task 2 programming exercise II\n",
    "\n",
    "In this exercise you will determine the probability distribution for the sum of dots of two dices."
   ]
  },
  {
   "cell_type": "markdown",
   "metadata": {},
   "source": [
    "### Task 2.1\n",
    "Create a histogram to display the sum of dots of two dices. One dice has 8 sides and the other 12. How many bins do you need and which range is sensible for the *x*-axis?"
   ]
  },
  {
   "cell_type": "code",
   "execution_count": 66,
   "metadata": {},
   "outputs": [
    {
     "name": "stdout",
     "output_type": "stream",
     "text": [
      "TH1.Print Name  = dice roll, Entries= 0, Total sum= 0\n",
      " fSumw[0]=0, x=1\n",
      " fSumw[1]=0, x=2\n",
      " fSumw[2]=0, x=3\n",
      " fSumw[3]=0, x=4\n",
      " fSumw[4]=0, x=5\n",
      " fSumw[5]=0, x=6\n",
      " fSumw[6]=0, x=7\n",
      " fSumw[7]=0, x=8\n",
      " fSumw[8]=0, x=9\n",
      " fSumw[9]=0, x=10\n",
      " fSumw[10]=0, x=11\n",
      " fSumw[11]=0, x=12\n",
      " fSumw[12]=0, x=13\n",
      " fSumw[13]=0, x=14\n",
      " fSumw[14]=0, x=15\n",
      " fSumw[15]=0, x=16\n",
      " fSumw[16]=0, x=17\n",
      " fSumw[17]=0, x=18\n",
      " fSumw[18]=0, x=19\n",
      " fSumw[19]=0, x=20\n",
      " fSumw[20]=0, x=21\n"
     ]
    },
    {
     "name": "stderr",
     "output_type": "stream",
     "text": [
      "Warning in <TROOT::Append>: Replacing existing TH1: dice roll (Potential memory leak).\n"
     ]
    }
   ],
   "source": [
    "#Task 2.1\n",
    "dHist = ROOT.TH1F(\"dice roll\", \"Two dice\", 19, 1.5, 20.5)\n",
    "dHist.Print(\"all\")"
   ]
  },
  {
   "cell_type": "markdown",
   "metadata": {},
   "source": [
    "### Task 2.2\n",
    "Build a `for` loop from `0` to `N`. Within the `for` loop generate two random numbers corresponding to each dice and add 1 to each of them (why?). Enter the sum of these two random numbers in the histogram using the `fill` function. Hint: Use `TRandom3.Integer(int)`."
   ]
  },
  {
   "cell_type": "code",
   "execution_count": 81,
   "metadata": {},
   "outputs": [],
   "source": [
    "#Task 2.2\n",
    "N = 10000 #=1000, =10000\n",
    "gen = ROOT.TRandom3()\n",
    "for i in range(0, N):\n",
    "  diceSum = (gen.Integer(8) + 1) + (gen.Integer(12) + 1)\n",
    "  dHist.Fill(diceSum)"
   ]
  },
  {
   "cell_type": "markdown",
   "metadata": {},
   "source": [
    "Alternative using a function (advanced):"
   ]
  },
  {
   "cell_type": "markdown",
   "metadata": {},
   "source": [
    "### Task 2.3\n",
    "Finally, draw the histogram using the `Draw`-function.\n"
   ]
  },
  {
   "cell_type": "code",
   "execution_count": 82,
   "metadata": {},
   "outputs": [
    {
     "data": {
      "image/png": "[encoded data removed]",
      "text/plain": [
       "<IPython.core.display.Image object>"
      ]
     },
     "metadata": {},
     "output_type": "display_data"
    }
   ],
   "source": [
    "#Task 2.3\n",
    "c = ROOT.TCanvas()\n",
    "dHist.Draw()\n",
    "c.Draw()"
   ]
  },
  {
   "cell_type": "markdown",
   "metadata": {},
   "source": [
    "### Task 2.4\n",
    "Normalise the histogram to 1 with the help of the functions `Scale(float)` and `Integral()`. After this normalisation the relative distribution is a probability distribution. Draw the histogram again.\n"
   ]
  },
  {
   "cell_type": "code",
   "execution_count": 91,
   "metadata": {},
   "outputs": [
    {
     "name": "stdout",
     "output_type": "stream",
     "text": [
      "0.9999999972060323\n",
      "0.9999999972060323\n"
     ]
    }
   ],
   "source": [
    "#Task 2.4\n",
    "print(dHist.Integral())\n",
    "dHist.Scale(1/dHist.Integral())\n",
    "print(dHist.Integral())"
   ]
  },
  {
   "cell_type": "markdown",
   "metadata": {},
   "source": [
    "### Task 2.5\n",
    "How probable is it to get a sum of e.g. 10? Hint: Use `TH1F.GetBinContent(int)`."
   ]
  },
  {
   "cell_type": "code",
   "execution_count": 92,
   "metadata": {},
   "outputs": [
    {
     "name": "stdout",
     "output_type": "stream",
     "text": [
      "0.08140016347169876\n"
     ]
    }
   ],
   "source": [
    "#Task 2.5\n",
    "print(dHist.GetBinContent(10))"
   ]
  },
  {
   "cell_type": "markdown",
   "metadata": {},
   "source": [
    "### Task 2.6\n",
    "Try the tasks above with different values for `N`: 100, 1000, 10000, ...\n"
   ]
  },
  {
   "cell_type": "markdown",
   "metadata": {
    "slideshow": {
     "slide_type": "slide"
    }
   },
   "source": [
    "## Task 3 programming exercise III\n",
    "\n",
    "Create a two-dimensional histogram with 15 bins on the x axis between 0 and 15 and 15 bins on the y axis between 0 and 15."
   ]
  },
  {
   "cell_type": "code",
   "execution_count": 108,
   "metadata": {},
   "outputs": [
    {
     "name": "stderr",
     "output_type": "stream",
     "text": [
      "Warning in <TROOT::Append>: Replacing existing TH1: data (Potential memory leak).\n"
     ]
    }
   ],
   "source": [
    "#Task 3\n",
    "import ROOT\n",
    "newHist = ROOT.TH2F(\"data\", \"2dhist\", 15, 0, 15, 15, 0, 15)"
   ]
  },
  {
   "cell_type": "markdown",
   "metadata": {},
   "source": [
    "### Task 3.1\n",
    "Fill the numberpairs `(3,5)`, `(7,6)`, `(1,3)`, `(8,8)`, `(6,4)` and `(7,4)` in the histogram using `TH2F.Fill(x,y)`."
   ]
  },
  {
   "cell_type": "code",
   "execution_count": 109,
   "metadata": {},
   "outputs": [
    {
     "data": {
      "text/plain": [
       "93"
      ]
     },
     "execution_count": 109,
     "metadata": {},
     "output_type": "execute_result"
    }
   ],
   "source": [
    "#Task 3.1\n",
    "newHist.Reset()\n",
    "newHist.Fill(3, 5)\n",
    "newHist.Fill(7, 6)\n",
    "newHist.Fill(1, 3)\n",
    "newHist.Fill(8, 8)\n",
    "newHist.Fill(6, 4)\n",
    "newHist.Fill(7, 4)"
   ]
  },
  {
   "cell_type": "markdown",
   "metadata": {},
   "source": [
    "### Task 3.2\n",
    "Draw the histogram with the command `TH2F.Draw(\"col\")`."
   ]
  },
  {
   "cell_type": "code",
   "execution_count": 110,
   "metadata": {},
   "outputs": [
    {
     "data": {
      "image/png": "[encoded data removed]",
      "text/plain": [
       "<IPython.core.display.Image object>"
      ]
     },
     "metadata": {},
     "output_type": "display_data"
    }
   ],
   "source": [
    "#Task 3.2\n",
    "c = ROOT.TCanvas()\n",
    "newHist.Draw(\"col\")\n",
    "c.Draw()"
   ]
  },
  {
   "cell_type": "markdown",
   "metadata": {},
   "source": [
    "### Task 3.3\n",
    "Draw the histogram with the command `TH2F.Draw(\"lego\")`.\n"
   ]
  },
  {
   "cell_type": "code",
   "execution_count": 111,
   "metadata": {},
   "outputs": [
    {
     "data": {
      "image/png": "[encoded data removed]",
      "text/plain": [
       "<IPython.core.display.Image object>"
      ]
     },
     "metadata": {},
     "output_type": "display_data"
    }
   ],
   "source": [
    "#Task 3.3\n",
    "c = ROOT.TCanvas()\n",
    "newHist.Draw(\"lego\")\n",
    "c.Draw()"
   ]
  },
  {
   "cell_type": "markdown",
   "metadata": {},
   "source": [
    "### Task 3.4\n",
    "Calculate and print out the correlation coefficient with the function `TH2F.GetCorrelationFactor()`."
   ]
  },
  {
   "cell_type": "code",
   "execution_count": 112,
   "metadata": {},
   "outputs": [
    {
     "name": "stdout",
     "output_type": "stream",
     "text": [
      "0.6546536707079764\n"
     ]
    }
   ],
   "source": [
    "#Task 3.4\n",
    "print(newHist.GetCorrelationFactor())"
   ]
  }
 ],
 "metadata": {
  "celltoolbar": "Slideshow",
  "kernelspec": {
   "display_name": "Python 3.10.6 64-bit",
   "language": "python",
   "name": "python3"
  },
  "language_info": {
   "codemirror_mode": {
    "name": "ipython",
    "version": 3
   },
   "file_extension": ".py",
   "mimetype": "text/x-python",
   "name": "python",
   "nbconvert_exporter": "python",
   "pygments_lexer": "ipython3",
   "version": "3.10.6"
  },
  "vscode": {
   "interpreter": {
    "hash": "e7370f93d1d0cde622a1f8e1c04877d8463912d04d973331ad4851f04de6915a"
   }
  }
 },
 "nbformat": 4,
 "nbformat_minor": 1
}

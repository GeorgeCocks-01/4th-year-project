{
 "cells": [
  {
   "cell_type": "markdown",
   "metadata": {
    "slideshow": {
     "slide_type": "slide"
    }
   },
   "source": [
    "# Data analysis for scientists: Statistical methods in theory and practice\n",
    "\n",
    "## Dr Kathrin Becker\n"
   ]
  },
  {
   "cell_type": "markdown",
   "metadata": {
    "slideshow": {
     "slide_type": "slide"
    }
   },
   "source": [
    "# Introduction\n",
    "\n",
    "Exercises are mainly programming tasks to improve your understanding of the material from the lecture\n",
    " * To try out on your own\n",
    "\n",
    "* No previous knowledge of C ++ or Python is required for this exercise\n",
    " * today: some basics\n",
    "\n",
    "* slightly more complicated things in the respective exercise as required\n"
   ]
  },
  {
   "cell_type": "markdown",
   "metadata": {
    "slideshow": {
     "slide_type": "slide"
    }
   },
   "source": [
    "# Introduction to programming with Python and ROOT\n",
    "\n",
    "Additional material to the tutor's lecture at the beginning of the exercise\n",
    "\n",
    "* Jupyter notebooks\n",
    "  * Starting Jupyter Notebooks\n",
    "\n",
    "* Brief introduction to programming with Python\n",
    "  * Variables, data types\n",
    "  * Features\n",
    "  * User defined functions\n",
    "  * Program flow, conditions, loops\n",
    "  * Classes (for those interested)\n",
    "  * Modules (for those interested)\n",
    "\n",
    "* Introduction to ROOT\n",
    "  * Graphic output\n",
    "  * Histograms\n",
    "  * Random numbers\n",
    " \n",
    "* Notes for professionals\n",
    "\n"
   ]
  },
  {
   "cell_type": "markdown",
   "metadata": {
    "slideshow": {
     "slide_type": "slide"
    }
   },
   "source": [
    "## Jupyter Notebooks\n",
    "\n",
    "* [Jupyter Notebook](http://jupyter-notebook.readthedocs.io/en/latest/notebook.html) is a programming environment directly in the browser\n",
    "* Text and code together on one page\n",
    "* Code can be tried out directly (SHIFT + Enter):"
   ]
  },
  {
   "cell_type": "code",
   "execution_count": 1,
   "metadata": {},
   "outputs": [
    {
     "name": "stdout",
     "output_type": "stream",
     "text": [
      "Hallo!\n"
     ]
    }
   ],
   "source": [
    "print(\"Hallo!\")"
   ]
  },
  {
   "cell_type": "code",
   "execution_count": 2,
   "metadata": {},
   "outputs": [
    {
     "name": "stdout",
     "output_type": "stream",
     "text": [
      "100.528\n"
     ]
    }
   ],
   "source": [
    "print(2*3.1415* 4**2)"
   ]
  },
  {
   "cell_type": "markdown",
   "metadata": {
    "slideshow": {
     "slide_type": "subslide"
    }
   },
   "source": [
    "### Starting Jupyter Notebooks\n",
    "\n",
    "* Installation on CIP pool computer\n",
    "  * Start the terminal and enter:\n",
    "    ```bash\n",
    "    /opt/root_v6.06.08/bin/root --notebook\n",
    "    ```\n",
    "* Start the browser and enter the following address (if the browser does not start automatically):\n",
    "```\n",
    "http://localhost:8888/\n",
    "```"
   ]
  },
  {
   "cell_type": "markdown",
   "metadata": {
    "slideshow": {
     "slide_type": "slide"
    }
   },
   "source": [
    "## Brief introduction to programming with Python\n",
    "\n",
    "* This is not a programming course\n",
    " * More about [Python](https://www.python.org/doc/) (Introduction, tutorial, reference)\n",
    " * or here http://introtopython.org\n",
    "\n",
    "* Choice of language: Python (alternative C++)\n",
    " * Interpretive language (no compilation necessary)\n",
    " * Cooperation with ROOT: small non-python adjustment necessary (ROOT is written in C++)\n",
    " \n",
    "* Comments in the code: \n",
    "```python\n",
    "#Comment that is not executed!\n",
    "```\n"
   ]
  },
  {
   "cell_type": "markdown",
   "metadata": {
    "slideshow": {
     "slide_type": "subslide"
    }
   },
   "source": [
    "### Variables, data types\n",
    "\n",
    "* Additional info to lecture and examples from lecture\n",
    "* Python derives data type of variable automatically \n",
    " * `int`: integer\n",
    " * `float`: floating numbers\n",
    " * `bool`: `True` or `False`\n",
    " * `str`: string \n",
    " * `list`: Numbered list of values \n",
    "   * Usage of lists: `mylist[elementNumber]`\n",
    " * `dict`: Unique assignment of values\n",
    "   * Usage of `dict`: `dictionary[value1]`\n",
    "* More information under https://docs.python.org/2/tutorial/introduction.html#using-python-as-a-calculator"
   ]
  },
  {
   "cell_type": "code",
   "execution_count": 3,
   "metadata": {},
   "outputs": [
    {
     "name": "stdout",
     "output_type": "stream",
     "text": [
      "7.5\n"
     ]
    }
   ],
   "source": [
    "#Example 1 from slides\n",
    "a=3\n",
    "b=4.5\n",
    "print(a+b)"
   ]
  },
  {
   "cell_type": "code",
   "execution_count": 4,
   "metadata": {},
   "outputs": [
    {
     "name": "stdout",
     "output_type": "stream",
     "text": [
      "monkeybanana\n"
     ]
    }
   ],
   "source": [
    "#Example 2 from slides\n",
    "a='monkey'\n",
    "b = 'banana'\n",
    "print(a+b)"
   ]
  },
  {
   "cell_type": "code",
   "execution_count": 5,
   "metadata": {},
   "outputs": [
    {
     "ename": "TypeError",
     "evalue": "unsupported operand type(s) for +: 'int' and 'str'",
     "output_type": "error",
     "traceback": [
      "\u001b[0;31m---------------------------------------------------------------------------\u001b[0m",
      "\u001b[0;31mTypeError\u001b[0m                                 Traceback (most recent call last)",
      "Cell \u001b[0;32mIn [5], line 4\u001b[0m\n\u001b[1;32m      2\u001b[0m a \u001b[38;5;241m=\u001b[39m \u001b[38;5;241m3\u001b[39m\n\u001b[1;32m      3\u001b[0m b \u001b[38;5;241m=\u001b[39m \u001b[38;5;124m'\u001b[39m\u001b[38;5;124mmonkey\u001b[39m\u001b[38;5;124m'\u001b[39m\n\u001b[0;32m----> 4\u001b[0m \u001b[38;5;28mprint\u001b[39m(a\u001b[38;5;241m+\u001b[39mb)\n",
      "\u001b[0;31mTypeError\u001b[0m: unsupported operand type(s) for +: 'int' and 'str'"
     ]
    }
   ],
   "source": [
    "#Example 3 from slides\n",
    "a = 3\n",
    "b = 'monkey'\n",
    "print(a+b)"
   ]
  },
  {
   "cell_type": "code",
   "execution_count": 6,
   "metadata": {},
   "outputs": [],
   "source": [
    "#Additional examples of data types\n",
    "a=2\n",
    "b=2.0\n",
    "c=1.5\n",
    "d=\"2\"\n",
    "e=\"Hello\"\n",
    "f=True\n",
    "myNumber = 4\n",
    "aDifferentNumber = 3.1415\n",
    "aList=[1,2,3,4]\n",
    "List2=[1,1.5,5,\"end\"]\n",
    "sorting={1:1.0, \"two\":2, 5:\"five\"}"
   ]
  },
  {
   "cell_type": "code",
   "execution_count": 7,
   "metadata": {},
   "outputs": [
    {
     "name": "stdout",
     "output_type": "stream",
     "text": [
      "1.0 Hello\n",
      "1.0 1.0\n"
     ]
    }
   ],
   "source": [
    "aNumber=1.0\n",
    "aString=\"Hello\"\n",
    "print(aNumber, aString)\n",
    "aString=aNumber\n",
    "print(aNumber, aString)"
   ]
  },
  {
   "cell_type": "code",
   "execution_count": 8,
   "metadata": {},
   "outputs": [
    {
     "name": "stdout",
     "output_type": "stream",
     "text": [
      "4\n",
      "5\n"
     ]
    }
   ],
   "source": [
    "print(myNumber)\n",
    "myNumber=myNumber+1\n",
    "print(myNumber)"
   ]
  },
  {
   "cell_type": "code",
   "execution_count": 9,
   "metadata": {},
   "outputs": [
    {
     "name": "stdout",
     "output_type": "stream",
     "text": [
      "2\n",
      "Hello\n",
      "[1, 2, 3, 4]\n",
      "3\n",
      "five 2\n"
     ]
    }
   ],
   "source": [
    "print(a)\n",
    "print(e)\n",
    "print(aList)\n",
    "print(aList[2])\n",
    "print(sorting[5], sorting[\"two\"])"
   ]
  },
  {
   "cell_type": "markdown",
   "metadata": {
    "slideshow": {
     "slide_type": "subslide"
    }
   },
   "source": [
    "### Functions\n",
    "\n",
    "* Output of variables or values: print\n",
    "* other functions: `abs()`, `int()`, `len()`, [other built-in functions](https://docs.python.org/3/library/functions.html)\n",
    "* Special functions (operators):\n",
    "  * Adding numbers (`int`, `float`) or combining strings\n",
    "  * Subtraction, multiplication, division, integer division, modulo ... of numbers\n",
    "    * Result type is adapted automatically!\n"
   ]
  },
  {
   "cell_type": "code",
   "execution_count": 10,
   "metadata": {
    "slideshow": {
     "slide_type": "-"
    }
   },
   "outputs": [
    {
     "name": "stdout",
     "output_type": "stream",
     "text": [
      "5 2 2.0\n",
      "4.0\n",
      "4\n",
      "-2 -2 -2.0\n",
      "0.0 1 25.0\n",
      "2.5 2.5 2.0\n",
      "True False\n"
     ]
    }
   ],
   "source": [
    "#Additional examples \n",
    "print(myNumber, a ,b)\n",
    "print(a+b)\n",
    "print(a * sorting[\"two\"])\n",
    "print(-a, -1*a,  -1.0*a)\n",
    "print(a-b, myNumber % 2, myNumber ** b)\n",
    "print(myNumber/a, myNumber/b, myNumber//b)\n",
    "print(a==b, myNumber==aNumber)"
   ]
  },
  {
   "cell_type": "markdown",
   "metadata": {
    "slideshow": {
     "slide_type": "-"
    }
   },
   "source": [
    "***\n",
    "**Question:** What are the operations `%` and `**`?\n",
    "***\n",
    "**Question:** Why are the results of the last row `myNumber/a`, `myNumber/b`, `myNumber//b` different?"
   ]
  },
  {
   "cell_type": "markdown",
   "metadata": {
    "slideshow": {
     "slide_type": "-"
    }
   },
   "source": [
    "To make the result `myNumber/a` and `myNumber/b` the same (as you would expect), one can execute the following row:"
   ]
  },
  {
   "cell_type": "code",
   "execution_count": 11,
   "metadata": {},
   "outputs": [
    {
     "name": "stdout",
     "output_type": "stream",
     "text": [
      "2.5 2.5 2.0\n"
     ]
    }
   ],
   "source": [
    "from __future__ import division\n",
    "print(myNumber/a, myNumber/b, myNumber//b)"
   ]
  },
  {
   "cell_type": "code",
   "execution_count": 12,
   "metadata": {
    "slideshow": {
     "slide_type": "subslide"
    }
   },
   "outputs": [
    {
     "name": "stdout",
     "output_type": "stream",
     "text": [
      "Hello this is a text\n",
      "1.0\n"
     ]
    }
   ],
   "source": [
    "#Additional examples \n",
    "newString=e+\" this is a text\"\n",
    "result1=a/b\n",
    "print(newString)\n",
    "print(result1)"
   ]
  },
  {
   "cell_type": "code",
   "execution_count": 13,
   "metadata": {},
   "outputs": [
    {
     "name": "stdout",
     "output_type": "stream",
     "text": [
      "-2 2\n",
      "20\n",
      "4\n"
     ]
    }
   ],
   "source": [
    "#Additional examples \n",
    "print(-a,abs(-a))\n",
    "print(len(newString))\n",
    "print(len(aList))"
   ]
  },
  {
   "cell_type": "markdown",
   "metadata": {
    "slideshow": {
     "slide_type": "subslide"
    }
   },
   "source": [
    "* Incorrect use of variables and functions:"
   ]
  },
  {
   "cell_type": "code",
   "execution_count": 14,
   "metadata": {},
   "outputs": [
    {
     "name": "stdout",
     "output_type": "stream",
     "text": [
      "[1, 2, 3, 4]\n"
     ]
    }
   ],
   "source": [
    "print(aList)\n",
    "#Incorrect line follows, please comment out to provoke the error\n",
    "#print(aList[10])"
   ]
  },
  {
   "cell_type": "code",
   "execution_count": 15,
   "metadata": {},
   "outputs": [
    {
     "name": "stdout",
     "output_type": "stream",
     "text": [
      "{1: 1.0, 'two': 2, 5: 'five'}\n"
     ]
    }
   ],
   "source": [
    "print(sorting)\n",
    "#Incorrect line follows, please comment out to provoke the error\n",
    "#print(sorting[0])"
   ]
  },
  {
   "cell_type": "code",
   "execution_count": 16,
   "metadata": {},
   "outputs": [
    {
     "name": "stdout",
     "output_type": "stream",
     "text": [
      "5 2\n",
      "22222\n"
     ]
    }
   ],
   "source": [
    "print(myNumber, d)\n",
    "print(d*myNumber)\n",
    "#Incorrect line follows, please comment out to provoke the error\n",
    "#print(d / myNumber)"
   ]
  },
  {
   "cell_type": "markdown",
   "metadata": {
    "slideshow": {
     "slide_type": "subslide"
    }
   },
   "source": [
    "### User defined functions \n",
    "\n",
    "```python\n",
    "def function(parameter):\n",
    "    codeBlock\n",
    "    return returnValue\n",
    "```\n",
    "* Definition of new functions: name, parameters, definition, result\n",
    "  * Parameters are not type-bound, function must (be able to) handle them sensibly!\n",
    "  * Return value is optional\n",
    "  * `codeBlock` must be (consistently) indented! Warning: do not mix tabs and spaces!\n",
    "  * `codeBlock` must not be empty, if nothing should be done, use` pass`\n",
    "  * More at https://docs.python.org/2/tutorial/controlflow.html#defining-functions\n",
    "\n"
   ]
  },
  {
   "cell_type": "markdown",
   "metadata": {
    "slideshow": {
     "slide_type": "subslide"
    }
   },
   "source": [
    "* Use of your new functions\n",
    "  * Parameters\n",
    "  * named parameters\n",
    "  * *default* parameters\n"
   ]
  },
  {
   "cell_type": "code",
   "execution_count": 18,
   "metadata": {
    "scrolled": false
   },
   "outputs": [
    {
     "name": "stdout",
     "output_type": "stream",
     "text": [
      "First number = 8\n",
      "Second number = 3\n",
      "8 + 3 = 83\n"
     ]
    }
   ],
   "source": [
    "# Example 4 from slides\n",
    "def addNumbers(a,b):\n",
    "    return a+b\n",
    "\n",
    "import sys\n",
    "if sys.version_info > (3,0):  # python 3\n",
    "    number_a = input('First number = ')\n",
    "    number_b = input('Second number = ')\n",
    "else:\n",
    "    number_a = raw_input('First number = ')\n",
    "    number_b = raw_input('Second number = ')\n",
    "    \n",
    "c = addNumbers(number_a,number_b)\n",
    "\n",
    "print(('{0} + {1} = {2}').format(number_a,number_b,c))"
   ]
  },
  {
   "cell_type": "code",
   "execution_count": 19,
   "metadata": {},
   "outputs": [
    {
     "name": "stdout",
     "output_type": "stream",
     "text": [
      "First number = 6\n",
      "Second number = 2\n",
      "6 + 2 = 8\n"
     ]
    }
   ],
   "source": [
    "# Example 5 from slides\n",
    "if sys.version_info > (3,0):  # python 3\n",
    "    number_a = int(input('First number = '))\n",
    "    number_b = int(input('Second number = '))\n",
    "else:\n",
    "    number_a = int(raw_input('First number = '))\n",
    "    number_b = int(raw_input('Second number = '))\n",
    "    \n",
    "c = addNumbers(number_a,number_b)\n",
    "\n",
    "print(('{0} + {1} = {2}').format(number_a,number_b,c))\n"
   ]
  },
  {
   "cell_type": "code",
   "execution_count": 20,
   "metadata": {},
   "outputs": [],
   "source": [
    "#Additional examples\n",
    "def myFunction(firstParameter, secondParameter):\n",
    "    result= firstParameter + secondParameter **2 + 5\n",
    "    return result\n",
    "\n",
    "def mySecondFunction(firstParameter, secondParameter):\n",
    "    result1= firstParameter ** 2\n",
    "    result2= myFunction(firstParameter, secondParameter)\n",
    "    return result1, result2\n",
    "\n",
    "def myThirdFunction(firstParameter=0, secondParameter=1):\n",
    "    result =abs(firstParameter)+ secondParameter\n",
    "    return result\n",
    "\n",
    "def emptyFunction():\n",
    "    pass"
   ]
  },
  {
   "cell_type": "code",
   "execution_count": 21,
   "metadata": {},
   "outputs": [
    {
     "name": "stdout",
     "output_type": "stream",
     "text": [
      "6.0\n",
      "(25.0, 10.0)\n"
     ]
    }
   ],
   "source": [
    "print(myFunction(1,0.0))\n",
    "print(mySecondFunction(5.0,0))"
   ]
  },
  {
   "cell_type": "code",
   "execution_count": null,
   "metadata": {},
   "outputs": [],
   "source": [
    "result1=myFunction(1,0.0)\n",
    "result2=mySecondFunction(5.0,1.0)\n",
    "print(result1, result2[0], result2[1])"
   ]
  },
  {
   "cell_type": "code",
   "execution_count": null,
   "metadata": {},
   "outputs": [],
   "source": [
    "print(myThirdFunction(), myThirdFunction(-4.0), myThirdFunction(-4.0,1.0))\n",
    "print(myThirdFunction(secondParameter=1.0))\n",
    "print(myThirdFunction(secondParameter=1.0, firstParameter=-4.0))"
   ]
  },
  {
   "cell_type": "markdown",
   "metadata": {
    "slideshow": {
     "slide_type": "subslide"
    }
   },
   "source": [
    "* Incorrect use of functions:"
   ]
  },
  {
   "cell_type": "code",
   "execution_count": null,
   "metadata": {},
   "outputs": [],
   "source": [
    "#Incorrect line follows, please comment out to provoke the error\n",
    "#print(myFunction(1))"
   ]
  },
  {
   "cell_type": "code",
   "execution_count": null,
   "metadata": {},
   "outputs": [],
   "source": [
    "#Incorrect line follows, please comment out to provoke the error\n",
    "#print(mySecondFunction(secondParameter=1.0))"
   ]
  },
  {
   "cell_type": "code",
   "execution_count": null,
   "metadata": {},
   "outputs": [],
   "source": [
    "#Incorrect line follows, please comment out to provoke the error\n",
    "#print(myFunction(1,\"0.0\"))"
   ]
  },
  {
   "cell_type": "markdown",
   "metadata": {
    "slideshow": {
     "slide_type": "subslide"
    }
   },
   "source": [
    "### Program flow, conditions, loops\n",
    "* The program generally runs sequentially\n",
    "  * Applies to every cell in the notebook\n",
    "* Functions provide branches\n",
    "* Other flow control options\n",
    "  * Conditional statements with `if`\n",
    "  * Loops with `for` and` while`\n",
    "* More information at https://docs.python.org/2/tutorial/controlflow.html"
   ]
  },
  {
   "cell_type": "markdown",
   "metadata": {
    "slideshow": {
     "slide_type": "subslide"
    }
   },
   "source": [
    "* Conditions with `if`\n",
    "  * Syntax\n",
    " \n",
    "``` python\n",
    "codeBefore\n",
    "if condition:\n",
    "     command1codeBlock\n",
    "     command2codeBlock\n",
    "else:\n",
    "     otherBlock\n",
    "codeAfterwards\n",
    "```\n",
    " \n",
    "  * Conditions and logical operators\n",
    "    * `==`, `!=`\n",
    "    * `>`, `<`, `>=`, `<=`\n",
    "    * `or`, `and`, `not`, observe traffic regulations!\n",
    " \n",
    "  * `codeBlock` must be (consistently) indented! Warning: do not mix tabs and spaces!\n"
   ]
  },
  {
   "cell_type": "code",
   "execution_count": null,
   "metadata": {},
   "outputs": [],
   "source": [
    "# Example 6 from slides\n",
    "if sys.version_info > (3,0):  # python 3\n",
    "    a = int(input('Give me a number: '))\n",
    "else:\n",
    "    a = int(raw_input('Give me a number: '))\n",
    "    \n",
    "if a < 5:\n",
    "    print('Your number is smaller than 5')\n",
    "else:\n",
    "    print('Your number is larger than 5')"
   ]
  },
  {
   "cell_type": "code",
   "execution_count": null,
   "metadata": {},
   "outputs": [],
   "source": [
    "#additional example\n",
    "def checkValue(value):\n",
    "    if value>10:\n",
    "        print(\"value\",value,\"is larger than 10\")\n",
    "    else:\n",
    "        print(\"value\",value,\"is equal or smaller than 10\")\n",
    "    if value == 15:\n",
    "        print(\"value\",value,\"is fiftteen!\")\n",
    "    if value !=15:\n",
    "        pass\n",
    "\n",
    "value=10\n",
    "print(\"start with value\",value)\n",
    "checkValue(value)\n",
    "value=15\n",
    "print(\"continue with value\",value)\n",
    "checkValue(value)\n",
    "checkValue(11)"
   ]
  },
  {
   "cell_type": "markdown",
   "metadata": {
    "slideshow": {
     "slide_type": "subslide"
    }
   },
   "source": [
    "* Loop with `while`\n",
    "  * Syntax\n",
    "\n",
    "``` python\n",
    "codeBefore\n",
    "while condition:\n",
    "     command1codeBlock\n",
    "     command2codeBlock\n",
    "codeAfterwards\n",
    "```\n",
    "\n",
    "  * Attention: Unattainable / Infinite loops!\n",
    "  * `codeBlock` must be (consistently) indented! Warning: do not mix tabs and spaces!\n"
   ]
  },
  {
   "cell_type": "code",
   "execution_count": null,
   "metadata": {},
   "outputs": [],
   "source": [
    "#Example 7 from slides\n",
    "i = 0\n",
    "while i<10:\n",
    "    i=i+1\n",
    "    print(i)"
   ]
  },
  {
   "cell_type": "code",
   "execution_count": null,
   "metadata": {},
   "outputs": [],
   "source": [
    "#Additional example\n",
    "value=1\n",
    "count=0\n",
    "print(\"starting\")\n",
    "while (value < 100):\n",
    "    count=count+1\n",
    "    value=value*2\n",
    "    print(\"at iteration\",count,\"value is\",value )\n",
    "print(\"end\")"
   ]
  },
  {
   "cell_type": "markdown",
   "metadata": {
    "slideshow": {
     "slide_type": "subslide"
    }
   },
   "source": [
    "* Loop with `for`\n",
    "  * Syntax\n",
    "\n",
    "``` python\n",
    "codeBefore\n",
    "for element in list:\n",
    "     command1codeBlock\n",
    "     command2codeBlock\n",
    "codeAfterwards\n",
    "```\n",
    "\n",
    "  * Syntax with numeric list\n",
    " \n",
    "``` python\n",
    "codeBefore\n",
    "for counter in range (number):\n",
    "     command1codeBlock\n",
    "     command2codeBlock\n",
    "codeAfterwards\n",
    "```\n",
    "\n",
    "  * `codeBlock` must be (consistently) indented! Warning: do not mix tabs and spaces!\n"
   ]
  },
  {
   "cell_type": "code",
   "execution_count": null,
   "metadata": {},
   "outputs": [],
   "source": [
    "#Example 8 from slides\n",
    "for i in range(0,10):\n",
    "    print(i)"
   ]
  },
  {
   "cell_type": "code",
   "execution_count": null,
   "metadata": {
    "slideshow": {
     "slide_type": "subslide"
    }
   },
   "outputs": [],
   "source": [
    "#Additional example\n",
    "liste=[2,3,4,\"text\"]\n",
    "counter=0\n",
    "for step in liste:\n",
    "    counter=counter+1\n",
    "    print(\"at step\",counter,\"have element\",step)"
   ]
  },
  {
   "cell_type": "code",
   "execution_count": null,
   "metadata": {},
   "outputs": [],
   "source": [
    "counter=0\n",
    "for count in range(5):\n",
    "    counter=counter+1\n",
    "    print(\"at step\",counter,\"have element\", count)"
   ]
  },
  {
   "cell_type": "code",
   "execution_count": null,
   "metadata": {
    "slideshow": {
     "slide_type": "subslide"
    }
   },
   "outputs": [],
   "source": [
    "counter=0\n",
    "for count in range(6,0,-2):\n",
    "    counter=counter+1\n",
    "    print(\"at step\",counter,\"have element\", count)"
   ]
  },
  {
   "cell_type": "markdown",
   "metadata": {},
   "source": [
    "***\n",
    "**Question:** What is the meaning of the parameters of function range `xrange(6,0,-2)`?"
   ]
  },
  {
   "cell_type": "markdown",
   "metadata": {
    "slideshow": {
     "slide_type": "subslide"
    }
   },
   "source": [
    "* Interruption of loops with `continue` and `break`\n",
    "* Works with `for` and `while` loops\n"
   ]
  },
  {
   "cell_type": "code",
   "execution_count": null,
   "metadata": {},
   "outputs": [],
   "source": [
    "for number in range(8):\n",
    "    print(\"at number\",number)\n",
    "    if number == 2:\n",
    "        continue\n",
    "    if number == 5:\n",
    "        break\n",
    "    print(\"-> end of iteration\",number)"
   ]
  },
  {
   "cell_type": "markdown",
   "metadata": {},
   "source": [
    "***\n",
    "**Question:** What is the difference between `continue` and `break`?***"
   ]
  },
  {
   "cell_type": "markdown",
   "metadata": {
    "slideshow": {
     "slide_type": "subslide"
    }
   },
   "source": [
    "### Classes - For those interested\n",
    "\n",
    "* Class\n",
    "  * Construction plan for objects with the same properties\n",
    "  * typically all data types are also classes\n",
    "  \n",
    "* Objects are instances of a class\n",
    "  * Generalization of variables\n",
    "  * Properties: Objects have more than one value and also have functions (methods)\n",
    "  * Determine all properties of objects: `dir(class)`\n",
    "\n",
    " \n",
    "* Object instantiation\n",
    "\n",
    "``` python\n",
    "variableName = className(parameter)\n",
    "```\n",
    "\n",
    "  * Often one writes:\n",
    " \n",
    "  *The class **className** has the property **className.myName** or the method **className.doSomething(str)**.*\n",
    " \n",
    "    And you think that you can use the objects of the class as follows:\n",
    "   \n",
    "    ``` python\n",
    "    print(variableName.myName)\n",
    "    ```\n",
    "   \n",
    "    or\n",
    "   \n",
    "    ``` python\n",
    "    variablenName.doSomething(\"test\")\n",
    "    ```\n",
    "\n"
   ]
  },
  {
   "cell_type": "markdown",
   "metadata": {
    "slideshow": {
     "slide_type": "subslide"
    }
   },
   "source": [
    "* Example class:\n",
    "  * The class `str` is a class that stores and can manipulate strings.\n",
    "  * Change the upper and lower case with `str.swapcase()` and the corresponding character string is returned\n",
    "  * You replace characters with `str.replace(str, str)` and the corresponding character string is returned\n",
    "  * ..."
   ]
  },
  {
   "cell_type": "code",
   "execution_count": null,
   "metadata": {},
   "outputs": [],
   "source": [
    "string=str(\"This is a test string.\")\n",
    "print(string)\n",
    "print(string.swapcase())\n",
    "print(string.replace(\"test\",\"correct\"))\n",
    "print(\"string can do all of this:\", dir(string))"
   ]
  },
  {
   "cell_type": "markdown",
   "metadata": {
    "slideshow": {
     "slide_type": "subslide"
    }
   },
   "source": [
    "* ROOT mainly provides new functionality via classes\n",
    "* In this exercise it is not necessary to create your own classes!\n",
    "* More at https://docs.python.org/2/tutorial/classes.html"
   ]
  },
  {
   "cell_type": "markdown",
   "metadata": {
    "slideshow": {
     "slide_type": "subslide"
    }
   },
   "source": [
    "### Modules - For those interested\n",
    "* Modules are packages of functions and classes\n",
    "* Integration of modules:\n",
    "\n",
    "``` python\n",
    "import moduleName\n",
    "```\n",
    "\n",
    "or\n",
    "\n",
    "``` python\n",
    "from moduleName import newClass\n",
    "```\n",
    "\n",
    "* Using modules:\n",
    "\n",
    "``` python\n",
    "object = moduleName.newClass()\n",
    "```\n",
    "\n",
    "or\n",
    "\n",
    "``` python\n",
    "object = newClass()\n",
    "```\n",
    "* More at https://docs.python.org/2/tutorial/modules.html\n"
   ]
  },
  {
   "cell_type": "code",
   "execution_count": null,
   "metadata": {},
   "outputs": [],
   "source": [
    "import os\n",
    "print(os.uname())"
   ]
  },
  {
   "cell_type": "code",
   "execution_count": null,
   "metadata": {},
   "outputs": [],
   "source": [
    "from os import uname\n",
    "uname()"
   ]
  },
  {
   "cell_type": "code",
   "execution_count": null,
   "metadata": {},
   "outputs": [],
   "source": [
    "import sys\n",
    "print(sys.version)"
   ]
  },
  {
   "cell_type": "code",
   "execution_count": null,
   "metadata": {},
   "outputs": [],
   "source": [
    "from sys import *\n",
    "print(version)"
   ]
  },
  {
   "cell_type": "markdown",
   "metadata": {
    "slideshow": {
     "slide_type": "slide"
    }
   },
   "source": [
    "## Introduction to ROOT\n",
    "\n",
    "* [ROOT] (http://root.cern.ch) is written in C ++, but it interfaces with Python\n",
    "* ROOT provides its functionality as modules (predominantly) in the form of classes\n",
    "\n",
    "* More at https://root.cern/doc/master/index.html\n"
   ]
  },
  {
   "cell_type": "markdown",
   "metadata": {
    "slideshow": {
     "slide_type": "subslide"
    }
   },
   "source": [
    "### Quickstart"
   ]
  },
  {
   "cell_type": "code",
   "execution_count": 1,
   "metadata": {},
   "outputs": [
    {
     "name": "stdout",
     "output_type": "stream",
     "text": [
      "Welcome to JupyROOT 6.26/06\n",
      "ROOT is <module 'ROOT' from '/home/george/root/lib/ROOT/__init__.py'>\n",
      "TCanvas class is <class cppyy.gbl.TCanvas at 0x7fffecdcac70>\n",
      "TH1F class is <class cppyy.gbl.TH1F at 0x7fffecfd2bb0>\n"
     ]
    }
   ],
   "source": [
    "import ROOT\n",
    "from ROOT import TCanvas, TH1F\n",
    "print(\"ROOT is\", ROOT)\n",
    "print(\"TCanvas class is\", TCanvas)\n",
    "print(\"TH1F class is\", TH1F)"
   ]
  },
  {
   "cell_type": "markdown",
   "metadata": {
    "slideshow": {
     "slide_type": "subslide"
    }
   },
   "source": [
    "### Graphic output\n",
    "* Graphical output right here in the browser\n",
    "* Graphical output on `TCanvas`\n",
    "* `TCanvas` must be drawn\n",
    "* More about TCanvas https://root.cern.ch/doc/master/classTCanvas.html\n"
   ]
  },
  {
   "cell_type": "code",
   "execution_count": 2,
   "metadata": {
    "scrolled": true
   },
   "outputs": [
    {
     "data": {
      "image/png": "[encoded data removed]",
      "text/plain": [
       "<IPython.core.display.Image object>"
      ]
     },
     "metadata": {},
     "output_type": "display_data"
    }
   ],
   "source": [
    "import ROOT\n",
    "c=ROOT.TCanvas()\n",
    "c.Draw()  # a white area should appear, since only the canvas has been drawn so far"
   ]
  },
  {
   "cell_type": "code",
   "execution_count": 7,
   "metadata": {
    "scrolled": true
   },
   "outputs": [
    {
     "data": {
      "image/png": "[encoded data removed]",
      "text/plain": [
       "<IPython.core.display.Image object>"
      ]
     },
     "metadata": {},
     "output_type": "display_data"
    }
   ],
   "source": [
    "from ROOT import TCanvas\n",
    "c=TCanvas()\n",
    "c.Draw()  # a white area should appear, since only the canvas has been drawn so far"
   ]
  },
  {
   "cell_type": "markdown",
   "metadata": {
    "slideshow": {
     "slide_type": "subslide"
    }
   },
   "source": [
    "* Other graphic objects must be drawn on the canvas and then the `TCanvas` must be redrawn (order!)"
   ]
  },
  {
   "cell_type": "code",
   "execution_count": 13,
   "metadata": {},
   "outputs": [
    {
     "data": {
      "image/png": "[encoded data removed]",
      "text/plain": [
       "<IPython.core.display.Image object>"
      ]
     },
     "metadata": {},
     "output_type": "display_data"
    }
   ],
   "source": [
    "#example from slides\n",
    "line1=ROOT.TLine(0,0,1,1)\n",
    "line1.Draw()\n",
    "line2=ROOT.TLine(0,0,0,1)\n",
    "line2.Draw()\n",
    "line3=ROOT.TLine(0,0,1,0)\n",
    "line3.Draw()\n",
    "\n",
    "from ROOT import TLine\n",
    "line4=TLine(1,0,1,1)\n",
    "line4.Draw()\n",
    "line5=TLine(0,1,1,1)\n",
    "line5.Draw()\n",
    "c.Draw()"
   ]
  },
  {
   "cell_type": "markdown",
   "metadata": {
    "slideshow": {
     "slide_type": "subslide"
    }
   },
   "source": [
    "### Histograms\n",
    "* Histograms counts data in bins (categories)\n",
    "  * Histograms can only count\n",
    "  * Histograms have no \"past\"\n",
    "* Syntax\n",
    "\n",
    "``` python\n",
    "histogram = TH1F(name, title; xAxis; yAxis, numberOfBins, firstBin, lastBin)\n",
    "histogram.Fill(value)\n",
    "histogram = TH2F(name, title; xAxis; yAxis, numberOfBins1, firstBin1, lastBin1, numberOfBins2, firstBin2, lastBin2)\n",
    "histogram.Fill(value1, value2)\n",
    "```\n",
    "\n",
    "* Get used to: axis labeling\n",
    "* Attention: Histograms with the same name overwrite each other\n",
    "\n",
    "* More at https://root.cern.ch/doc/master/classTH1F.html and https://root.cern.ch/doc/master/classTH2F.html\n",
    "\n"
   ]
  },
  {
   "cell_type": "code",
   "execution_count": 14,
   "metadata": {},
   "outputs": [],
   "source": [
    "#example from slides\n",
    "def fillData(histogram, mylist):\n",
    "    for element in mylist:\n",
    "        histogram.Fill(element)"
   ]
  },
  {
   "cell_type": "code",
   "execution_count": 19,
   "metadata": {},
   "outputs": [
    {
     "name": "stderr",
     "output_type": "stream",
     "text": [
      "Warning in <TROOT::Append>: Replacing existing TH1: ageOfStudents (Potential memory leak).\n"
     ]
    }
   ],
   "source": [
    "from ROOT import TH1F\n",
    "h=ROOT.TH1F(\"ageOfStudents\",\"Age of the students;Age;Count\",30,20,50)\n",
    "ageList   =[25,20,26,28,25,29,20,21,29,19,35,70,10]\n",
    "ageListNew=[20,25,26,28,25,29,20,21,29,19,35,70,10]\n",
    "fillData(h,ageList)"
   ]
  },
  {
   "cell_type": "code",
   "execution_count": 18,
   "metadata": {
    "scrolled": false
   },
   "outputs": [
    {
     "name": "stdout",
     "output_type": "stream",
     "text": [
      "TH1.Print Name  = ageOfStudents, Entries= 13, Total sum= 10\n",
      " fSumw[0]=2, x=19.5\n",
      " fSumw[1]=2, x=20.5\n",
      " fSumw[2]=1, x=21.5\n",
      " fSumw[3]=0, x=22.5\n",
      " fSumw[4]=0, x=23.5\n",
      " fSumw[5]=0, x=24.5\n",
      " fSumw[6]=2, x=25.5\n",
      " fSumw[7]=1, x=26.5\n",
      " fSumw[8]=0, x=27.5\n",
      " fSumw[9]=1, x=28.5\n",
      " fSumw[10]=2, x=29.5\n",
      " fSumw[11]=0, x=30.5\n",
      " fSumw[12]=0, x=31.5\n",
      " fSumw[13]=0, x=32.5\n",
      " fSumw[14]=0, x=33.5\n",
      " fSumw[15]=0, x=34.5\n",
      " fSumw[16]=1, x=35.5\n",
      " fSumw[17]=0, x=36.5\n",
      " fSumw[18]=0, x=37.5\n",
      " fSumw[19]=0, x=38.5\n",
      " fSumw[20]=0, x=39.5\n",
      " fSumw[21]=0, x=40.5\n",
      " fSumw[22]=0, x=41.5\n",
      " fSumw[23]=0, x=42.5\n",
      " fSumw[24]=0, x=43.5\n",
      " fSumw[25]=0, x=44.5\n",
      " fSumw[26]=0, x=45.5\n",
      " fSumw[27]=0, x=46.5\n",
      " fSumw[28]=0, x=47.5\n",
      " fSumw[29]=0, x=48.5\n",
      " fSumw[30]=0, x=49.5\n",
      " fSumw[31]=1, x=50.5\n"
     ]
    },
    {
     "data": {
      "image/png": "[encoded data removed]",
      "text/plain": [
       "<IPython.core.display.Image object>"
      ]
     },
     "metadata": {},
     "output_type": "display_data"
    }
   ],
   "source": [
    "c=TCanvas()\n",
    "h.Draw()\n",
    "h.Print(\"all\")\n",
    "c.Draw()\n"
   ]
  },
  {
   "cell_type": "code",
   "execution_count": 20,
   "metadata": {
    "slideshow": {
     "slide_type": "subslide"
    }
   },
   "outputs": [],
   "source": [
    "#additional examples\n",
    "h_new=TH1F(\"ageOfStudents_new\",\"Age of the students;Age;Count\",10,20,50)\n",
    "fillData(h_new,ageList)"
   ]
  },
  {
   "cell_type": "code",
   "execution_count": 21,
   "metadata": {},
   "outputs": [
    {
     "name": "stdout",
     "output_type": "stream",
     "text": [
      "TH1.Print Name  = ageOfStudents_new, Entries= 13, Total sum= 10\n",
      " fSumw[0]=2, x=18.5\n",
      " fSumw[1]=3, x=21.5\n",
      " fSumw[2]=2, x=24.5\n",
      " fSumw[3]=2, x=27.5\n",
      " fSumw[4]=2, x=30.5\n",
      " fSumw[5]=0, x=33.5\n",
      " fSumw[6]=1, x=36.5\n",
      " fSumw[7]=0, x=39.5\n",
      " fSumw[8]=0, x=42.5\n",
      " fSumw[9]=0, x=45.5\n",
      " fSumw[10]=0, x=48.5\n",
      " fSumw[11]=1, x=51.5\n"
     ]
    },
    {
     "data": {
      "image/png": "[encoded data removed]",
      "text/plain": [
       "<IPython.core.display.Image object>"
      ]
     },
     "metadata": {},
     "output_type": "display_data"
    }
   ],
   "source": [
    "c=TCanvas()\n",
    "h_new.Draw()\n",
    "c.Draw()\n",
    "h_new.Print(\"all\")"
   ]
  },
  {
   "cell_type": "code",
   "execution_count": 24,
   "metadata": {
    "slideshow": {
     "slide_type": "subslide"
    }
   },
   "outputs": [
    {
     "name": "stderr",
     "output_type": "stream",
     "text": [
      "Warning in <TROOT::Append>: Replacing existing TH1: ageOfStudents_old (Potential memory leak).\n"
     ]
    }
   ],
   "source": [
    "h_old=TH1F(\"ageOfStudents_old\",\"Age of the students;Age;Count\",10,20,50)\n",
    "fillData(h_old,ageListNew)"
   ]
  },
  {
   "cell_type": "code",
   "execution_count": 23,
   "metadata": {},
   "outputs": [
    {
     "name": "stdout",
     "output_type": "stream",
     "text": [
      "TH1.Print Name  = ageOfStudents_old, Entries= 13, Total sum= 10\n",
      " fSumw[0]=2, x=18.5\n",
      " fSumw[1]=3, x=21.5\n",
      " fSumw[2]=2, x=24.5\n",
      " fSumw[3]=2, x=27.5\n",
      " fSumw[4]=2, x=30.5\n",
      " fSumw[5]=0, x=33.5\n",
      " fSumw[6]=1, x=36.5\n",
      " fSumw[7]=0, x=39.5\n",
      " fSumw[8]=0, x=42.5\n",
      " fSumw[9]=0, x=45.5\n",
      " fSumw[10]=0, x=48.5\n",
      " fSumw[11]=1, x=51.5\n"
     ]
    },
    {
     "data": {
      "image/png": "[encoded data removed]",
      "text/plain": [
       "<IPython.core.display.Image object>"
      ]
     },
     "metadata": {},
     "output_type": "display_data"
    }
   ],
   "source": [
    "c=TCanvas()\n",
    "h_old.Draw(\"E\")\n",
    "c.Draw()\n",
    "h_old.Print(\"all\")"
   ]
  },
  {
   "cell_type": "markdown",
   "metadata": {},
   "source": [
    "***\n",
    "**Question:** What does `h.Print(\"all\")` tell us?\n",
    "***\n",
    "**Question:** What happened to the \"jung\" and \"old\" students?"
   ]
  },
  {
   "cell_type": "markdown",
   "metadata": {
    "slideshow": {
     "slide_type": "subslide"
    }
   },
   "source": [
    "* Other useful functions\n",
    " * `h.GetBinContent(binNumber)`\n",
    " * `h.Scale(newScale)`\n",
    " * `h.Sumw2()`\n",
    " * `h.Integral()`\n",
    " * `h.GetNbinsX()`\n",
    " * `h.SetLineColor(color)`\n",
    " * `h.SetLineWidth(width)`\n",
    " * `h.Draw(\"E\")`\n",
    " * `h.Draw(\"same\")`\n",
    " * `h.FillRandom(\"function\")`\n",
    " * `h.Reset()`"
   ]
  },
  {
   "cell_type": "code",
   "execution_count": 25,
   "metadata": {
    "slideshow": {
     "slide_type": "subslide"
    }
   },
   "outputs": [
    {
     "name": "stdout",
     "output_type": "stream",
     "text": [
      "2.0\n",
      "3.0\n",
      "1.0\n"
     ]
    }
   ],
   "source": [
    "print(h_new.GetBinContent(0))\n",
    "print(h_new.GetBinContent(1))\n",
    "print(h_new.GetBinContent(11))"
   ]
  },
  {
   "cell_type": "code",
   "execution_count": 26,
   "metadata": {},
   "outputs": [
    {
     "name": "stdout",
     "output_type": "stream",
     "text": [
      "TH1.Print Name  = ageOfStudents, Entries= 0, Total sum= 0\n",
      " fSumw[0]=0, x=19.5\n",
      " fSumw[1]=0, x=20.5\n",
      " fSumw[2]=0, x=21.5\n",
      " fSumw[3]=0, x=22.5\n",
      " fSumw[4]=0, x=23.5\n",
      " fSumw[5]=0, x=24.5\n",
      " fSumw[6]=0, x=25.5\n",
      " fSumw[7]=0, x=26.5\n",
      " fSumw[8]=0, x=27.5\n",
      " fSumw[9]=0, x=28.5\n",
      " fSumw[10]=0, x=29.5\n",
      " fSumw[11]=0, x=30.5\n",
      " fSumw[12]=0, x=31.5\n",
      " fSumw[13]=0, x=32.5\n",
      " fSumw[14]=0, x=33.5\n",
      " fSumw[15]=0, x=34.5\n",
      " fSumw[16]=0, x=35.5\n",
      " fSumw[17]=0, x=36.5\n",
      " fSumw[18]=0, x=37.5\n",
      " fSumw[19]=0, x=38.5\n",
      " fSumw[20]=0, x=39.5\n",
      " fSumw[21]=0, x=40.5\n",
      " fSumw[22]=0, x=41.5\n",
      " fSumw[23]=0, x=42.5\n",
      " fSumw[24]=0, x=43.5\n",
      " fSumw[25]=0, x=44.5\n",
      " fSumw[26]=0, x=45.5\n",
      " fSumw[27]=0, x=46.5\n",
      " fSumw[28]=0, x=47.5\n",
      " fSumw[29]=0, x=48.5\n",
      " fSumw[30]=0, x=49.5\n",
      " fSumw[31]=0, x=50.5\n"
     ]
    }
   ],
   "source": [
    "h.Reset()\n",
    "h.Print(\"all\")"
   ]
  },
  {
   "cell_type": "code",
   "execution_count": 36,
   "metadata": {},
   "outputs": [
    {
     "name": "stdout",
     "output_type": "stream",
     "text": [
      "10000000.0\n",
      "13.0\n",
      "100000000.0\n",
      "13.0\n",
      "10\n"
     ]
    },
    {
     "data": {
      "image/png": "[encoded data removed]",
      "text/plain": [
       "<IPython.core.display.Image object>"
      ]
     },
     "metadata": {},
     "output_type": "display_data"
    }
   ],
   "source": [
    "c=TCanvas()\n",
    "print(h_new.Integral())\n",
    "print(h_new.GetEntries())\n",
    "h_new.Scale(10)\n",
    "print(h_new.Integral())\n",
    "print(h_new.GetEntries())\n",
    "print(h_new.GetNbinsX())\n",
    "h_new.Draw(\"E\")\n",
    "c.Draw()"
   ]
  },
  {
   "cell_type": "code",
   "execution_count": 33,
   "metadata": {},
   "outputs": [
    {
     "name": "stderr",
     "output_type": "stream",
     "text": [
      "Warning in <TH1F::Sumw2>: Sum of squares of weights structure already created\n"
     ]
    },
    {
     "data": {
      "image/png": "[encoded data removed]",
      "text/plain": [
       "<IPython.core.display.Image object>"
      ]
     },
     "metadata": {},
     "output_type": "display_data"
    }
   ],
   "source": [
    "c=TCanvas()\n",
    "h_old.Sumw2()\n",
    "h_old.Scale(10)\n",
    "h_old.SetLineColor(2)\n",
    "h_old.SetLineWidth(5)\n",
    "h_old.Draw(\"E\")\n",
    "h_new.SetLineWidth(5)\n",
    "h_new.Draw(\"E same\")\n",
    "c.Draw()"
   ]
  },
  {
   "cell_type": "code",
   "execution_count": 29,
   "metadata": {},
   "outputs": [
    {
     "data": {
      "image/png": "[encoded data removed]",
      "text/plain": [
       "<IPython.core.display.Image object>"
      ]
     },
     "metadata": {},
     "output_type": "display_data"
    }
   ],
   "source": [
    "h_gaus =TH1F(\"gaushisto\",\"Gauss distribution;Number;Count\",20,-5,5)\n",
    "h_gaus.FillRandom(\"gaus\",1000)\n",
    "c=TCanvas()\n",
    "h_gaus.Draw(\"E\")\n",
    "c.Draw()"
   ]
  },
  {
   "cell_type": "markdown",
   "metadata": {
    "slideshow": {
     "slide_type": "subslide"
    }
   },
   "source": [
    "***\n",
    "**Question:** What is the functionality of these functions?\n",
    "* `h.GetBinContent(binNumber)`\n",
    "* `h.Scale(newSkale)`\n",
    "* `h.Sumw2()`\n",
    "* `h.Integral()`\n",
    "* `h.GetNbinsX()`\n",
    "* `h.SetLineColor(color)`\n",
    "* `h.Draw(\"E\")`\n",
    "* `h.Draw(\"same\")`\n",
    "* `h.FillRandom(\"function\",count)`\n",
    "* `h.Reset()`"
   ]
  },
  {
   "cell_type": "markdown",
   "metadata": {
    "slideshow": {
     "slide_type": "subslide"
    }
   },
   "source": [
    "### Random numbers\n",
    "* ROOT has some random number generators (see `TH1F.FillRandom()`)\n",
    "* `TRandom3` class to generate single (pseudo) random numbers\n",
    "* Syntax\n",
    "\n",
    "``` python\n",
    "generator = TRandom3(seed)\n",
    "number = generator.uniform(a,b)\n",
    "integer = generator.Integer(c)\n",
    "```\n",
    "\n",
    "* More at https://root.cern.ch/doc/master/classTRandom3.html\n"
   ]
  },
  {
   "cell_type": "code",
   "execution_count": 37,
   "metadata": {},
   "outputs": [
    {
     "name": "stdout",
     "output_type": "stream",
     "text": [
      "1, 3, 4, 0, 3, 3, 2, 2, 0, 2, "
     ]
    }
   ],
   "source": [
    "#example from slides\n",
    "from __future__ import print_function\n",
    "rand = ROOT.TRandom3()\n",
    "rand.SetSeed(42)\n",
    "for n in range(10):\n",
    "    print(rand.Integer(5), end=', ')"
   ]
  },
  {
   "cell_type": "code",
   "execution_count": 38,
   "metadata": {},
   "outputs": [
    {
     "name": "stdout",
     "output_type": "stream",
     "text": [
      "(13.216750544961542, 19)\n",
      "(19.723826264962554, 19)\n",
      "(11.29224956035614, 14)\n",
      "(17.543887614738196, 19)\n",
      "(18.41271675657481, 18)\n"
     ]
    }
   ],
   "source": [
    "generator=ROOT.TRandom3(0)\n",
    "for n in range(5):\n",
    "    print((generator.Uniform(10,20), generator.Integer(10)+10))"
   ]
  },
  {
   "cell_type": "code",
   "execution_count": 39,
   "metadata": {
    "slideshow": {
     "slide_type": "subslide"
    }
   },
   "outputs": [
    {
     "name": "stdout",
     "output_type": "stream",
     "text": [
      "Name: Random3 Title: Random number generator: Mersenne Twister\n",
      "[<cppyy.gbl.TRandom3 object at 0x7f9b0d5699c0>, <cppyy.gbl.TRandom3 object at 0x7f9b0d55abc0>, <cppyy.gbl.TRandom3 object at 0x7f9b0d567d30>, <cppyy.gbl.TRandom3 object at 0x7f9b0d5871d0>, <cppyy.gbl.TRandom3 object at 0x7f9b0d57d0e0>]\n"
     ]
    }
   ],
   "source": [
    "generators=[]\n",
    "seeds=[0,0,25,25,26]\n",
    "for seed in seeds:\n",
    "    generators.append(ROOT.TRandom3(seed))\n",
    "print((generator))\n",
    "print((generators))"
   ]
  },
  {
   "cell_type": "code",
   "execution_count": 40,
   "metadata": {
    "slideshow": {
     "slide_type": "-"
    }
   },
   "outputs": [
    {
     "name": "stdout",
     "output_type": "stream",
     "text": [
      "Iteration 0\n",
      "Generator 0.8081117917317897\n",
      "Generator 1 Result 31\n",
      "Generator 2 Result 77\n",
      "Generator 3 Result 87\n",
      "Generator 4 Result 87\n",
      "Generator 5 Result 30\n",
      "-----\n",
      "Iteration 1\n",
      "Generator 0.17585989693179727\n",
      "Generator 1 Result 64\n",
      "Generator 2 Result 51\n",
      "Generator 3 Result 69\n",
      "Generator 4 Result 69\n",
      "Generator 5 Result 71\n",
      "-----\n",
      "Iteration 2\n",
      "Generator 0.341806371929124\n",
      "Generator 1 Result 0\n",
      "Generator 2 Result 69\n",
      "Generator 3 Result 58\n",
      "Generator 4 Result 58\n",
      "Generator 5 Result 51\n",
      "-----\n",
      "Iteration 3\n",
      "Generator 0.3084497000090778\n",
      "Generator 1 Result 15\n",
      "Generator 2 Result 51\n",
      "Generator 3 Result 43\n",
      "Generator 4 Result 43\n",
      "Generator 5 Result 29\n",
      "-----\n",
      "Iteration 4\n",
      "Generator 0.2597769573330879\n",
      "Generator 1 Result 29\n",
      "Generator 2 Result 66\n",
      "Generator 3 Result 27\n",
      "Generator 4 Result 27\n",
      "Generator 5 Result 76\n",
      "-----\n"
     ]
    }
   ],
   "source": [
    "for iteration in range(5):\n",
    "    print(\"Iteration\",iteration)\n",
    "    print(\"Generator\",generator.Uniform(0,1))\n",
    "    count=0\n",
    "    for gen in generators:\n",
    "        count=count+1\n",
    "        print(\"Generator\",count,\"Result\",gen.Integer(100))\n",
    "    print(\"-----\")"
   ]
  },
  {
   "cell_type": "code",
   "execution_count": 41,
   "metadata": {},
   "outputs": [
    {
     "name": "stdout",
     "output_type": "stream",
     "text": [
      " FCN=23.9233 FROM MIGRAD    STATUS=CONVERGED      70 CALLS          71 TOTAL\n",
      "                     EDM=5.95516e-09    STRATEGY= 1      ERROR MATRIX ACCURATE \n",
      "  EXT PARAMETER                                   STEP         FIRST   \n",
      "  NO.   NAME      VALUE            ERROR          SIZE      DERIVATIVE \n",
      "   1  Constant     1.51201e+03   1.99812e+01   3.69020e-02  -1.53911e-06\n",
      "   2  Mean         7.01259e+00   3.13751e-02   7.64479e-05  -3.39880e-03\n",
      "   3  Sigma        2.75548e+00   3.07101e-02   7.37027e-06  -5.70232e-03\n"
     ]
    },
    {
     "data": {
      "image/png": "[encoded data removed]",
      "text/plain": [
       "<IPython.core.display.Image object>"
      ]
     },
     "metadata": {},
     "output_type": "display_data"
    }
   ],
   "source": [
    "#Role two dice example from lecture\n",
    "c = ROOT.TCanvas()\n",
    "hist = ROOT.TH1F(\"myHisto\",\"Dice Roll Distribution\",13,0.5,13.5);\n",
    "dice1Gen = ROOT.TRandom3(9876)\n",
    "dice2Gen = ROOT.TRandom3(1234)\n",
    "for n in range(10000):\n",
    "    diceSum = (dice1Gen.Integer(6)+1)+(dice2Gen.Integer(6)+1)\n",
    "    hist.Fill(diceSum)\n",
    "\n",
    "hist.Draw()\n",
    "hist.Fit('gaus')\n",
    "c.Draw()"
   ]
  },
  {
   "cell_type": "markdown",
   "metadata": {
    "slideshow": {
     "slide_type": "subslide"
    }
   },
   "source": [
    "#### Additional remarks on the random numbers and histograms"
   ]
  },
  {
   "cell_type": "code",
   "execution_count": 42,
   "metadata": {
    "slideshow": {
     "slide_type": "-"
    }
   },
   "outputs": [],
   "source": [
    "from ROOT import TH1F,TH2F,TCanvas\n",
    "nbins=10\n",
    "\n",
    "h_random    =TH1F(\"Random\"    ,\"Random number;Number;Count\"    ,nbins,0,100)\n",
    "h_random_new=TH1F(\"Random_new\",\"Random number new;Number;Count\",nbins,0,100)\n",
    "\n",
    "h_random_gen1_2=TH2F(\"Random_1_2\",\"Random 1+2;Number1;Number2\",nbins,0,100,nbins,0,100)\n",
    "h_random_gen3_4=TH2F(\"Random_3_4\",\"Random 3+4;Number3;Number4\",nbins,0,100,nbins,0,100)\n",
    "h_random_gen1_3=TH2F(\"Random_1_3\",\"Random 1+3;Number1;Number3\",nbins,0,100,nbins,0,100)\n",
    "\n",
    "h_random_gen3_4_new=TH2F(\"Random_3_4_new\",\"Random 3+4 new;Number3;Number4\",nbins,0,100,nbins,0,100)\n",
    "c=TCanvas()"
   ]
  },
  {
   "cell_type": "code",
   "execution_count": 43,
   "metadata": {},
   "outputs": [],
   "source": [
    "count=10000\n",
    "for iteration in range(count):\n",
    "    h_random.Fill(generators[4].Integer(100))\n",
    "    \n",
    "for iteration in range(count):\n",
    "    h_random_new.Fill(generator.Integer(100))\n",
    "    \n",
    "for iteration in range(count):\n",
    "    h_random_gen1_2.Fill(generators[0].Integer(100),generators[1].Integer(100))\n",
    "for iteration in range(count):\n",
    "    h_random_gen3_4.Fill(generators[2].Integer(100),generators[3].Integer(100))\n",
    "for iteration in range(count):\n",
    "    h_random_gen1_3.Fill(generators[0].Integer(100),generators[2].Integer(100))\n",
    "    \n",
    "for iteration in range(count):\n",
    "    h_random_gen3_4_new.Fill(generators[2].Integer(100),generators[3].Integer(100))"
   ]
  },
  {
   "cell_type": "code",
   "execution_count": 44,
   "metadata": {},
   "outputs": [],
   "source": [
    "def scaleHistogram(hist,myscale=1.25):\n",
    "    hist.GetYaxis().SetRangeUser(0,hist.GetBinContent(hist.GetMaximumBin())*myscale)"
   ]
  },
  {
   "cell_type": "markdown",
   "metadata": {
    "slideshow": {
     "slide_type": "subslide"
    }
   },
   "source": [
    "* Attention: Note the scale on the y-axis!"
   ]
  },
  {
   "cell_type": "code",
   "execution_count": 45,
   "metadata": {
    "slideshow": {
     "slide_type": "-"
    }
   },
   "outputs": [
    {
     "data": {
      "image/png": "[encoded data removed]",
      "text/plain": [
       "<IPython.core.display.Image object>"
      ]
     },
     "metadata": {},
     "output_type": "display_data"
    }
   ],
   "source": [
    "h_random.Draw()\n",
    "c.Draw()"
   ]
  },
  {
   "cell_type": "code",
   "execution_count": 46,
   "metadata": {},
   "outputs": [
    {
     "data": {
      "image/png": "[encoded data removed]",
      "text/plain": [
       "<IPython.core.display.Image object>"
      ]
     },
     "metadata": {},
     "output_type": "display_data"
    }
   ],
   "source": [
    "scaleHistogram(h_random)\n",
    "h_random.Draw(\"E\")\n",
    "c.Draw()"
   ]
  },
  {
   "cell_type": "code",
   "execution_count": 47,
   "metadata": {},
   "outputs": [
    {
     "data": {
      "image/png": "[encoded data removed]",
      "text/plain": [
       "<IPython.core.display.Image object>"
      ]
     },
     "metadata": {},
     "output_type": "display_data"
    }
   ],
   "source": [
    "h_random_new.Draw(\"E\")\n",
    "c.Draw()"
   ]
  },
  {
   "cell_type": "code",
   "execution_count": 48,
   "metadata": {},
   "outputs": [
    {
     "data": {
      "image/png": "[encoded data removed]",
      "text/plain": [
       "<IPython.core.display.Image object>"
      ]
     },
     "metadata": {},
     "output_type": "display_data"
    }
   ],
   "source": [
    "scaleHistogram(h_random_new)\n",
    "h_random_new.Draw(\"E\")\n",
    "c.Draw()"
   ]
  },
  {
   "cell_type": "markdown",
   "metadata": {
    "slideshow": {
     "slide_type": "subslide"
    }
   },
   "source": [
    "* Correlations between the random number generators"
   ]
  },
  {
   "cell_type": "code",
   "execution_count": 49,
   "metadata": {
    "slideshow": {
     "slide_type": "-"
    }
   },
   "outputs": [
    {
     "data": {
      "image/png": "[encoded data removed]",
      "text/plain": [
       "<IPython.core.display.Image object>"
      ]
     },
     "metadata": {},
     "output_type": "display_data"
    }
   ],
   "source": [
    "h_random_gen1_2.Draw(\"colz\")\n",
    "c.Draw()"
   ]
  },
  {
   "cell_type": "code",
   "execution_count": 50,
   "metadata": {
    "slideshow": {
     "slide_type": "-"
    }
   },
   "outputs": [
    {
     "data": {
      "image/png": "[encoded data removed]",
      "text/plain": [
       "<IPython.core.display.Image object>"
      ]
     },
     "metadata": {},
     "output_type": "display_data"
    }
   ],
   "source": [
    "h_random_gen3_4.Draw(\"colz\")\n",
    "c.Draw()"
   ]
  },
  {
   "cell_type": "code",
   "execution_count": 51,
   "metadata": {
    "slideshow": {
     "slide_type": "subslide"
    }
   },
   "outputs": [
    {
     "data": {
      "image/png": "[encoded data removed]",
      "text/plain": [
       "<IPython.core.display.Image object>"
      ]
     },
     "metadata": {},
     "output_type": "display_data"
    }
   ],
   "source": [
    "h_random_gen1_3.Draw(\"colz\")\n",
    "c.Draw()"
   ]
  },
  {
   "cell_type": "code",
   "execution_count": 52,
   "metadata": {},
   "outputs": [
    {
     "data": {
      "image/png": "[encoded data removed]",
      "text/plain": [
       "<IPython.core.display.Image object>"
      ]
     },
     "metadata": {},
     "output_type": "display_data"
    }
   ],
   "source": [
    "h_random_gen3_4_new.Draw(\"colz\")\n",
    "c.Draw()"
   ]
  },
  {
   "cell_type": "markdown",
   "metadata": {},
   "source": [
    "***\n",
    "**Question:** Why is the correlation between generator 3 and 4 lost?"
   ]
  },
  {
   "cell_type": "markdown",
   "metadata": {
    "collapsed": true,
    "slideshow": {
     "slide_type": "slide"
    }
   },
   "source": [
    "## Notes for professionals\n",
    "* ROOT standalone start with `root`\n",
    "  * But only C++ interpreter\n",
    "\n",
    "* Include ROOT in Python\n",
    "  * Start Python and interactively use the same commands as in the notebook\n",
    "  * Notebook can also be exported as a Python script"
   ]
  }
 ],
 "metadata": {
  "celltoolbar": "Slideshow",
  "kernelspec": {
   "display_name": "Python 3 (ipykernel)",
   "language": "python",
   "name": "python3"
  },
  "language_info": {
   "codemirror_mode": {
    "name": "ipython",
    "version": 3
   },
   "file_extension": ".py",
   "mimetype": "text/x-python",
   "name": "python",
   "nbconvert_exporter": "python",
   "pygments_lexer": "ipython3",
   "version": "3.10.6"
  },
  "vscode": {
   "interpreter": {
    "hash": "369f2c481f4da34e4445cda3fffd2e751bd1c4d706f27375911949ba6bb62e1c"
   }
  }
 },
 "nbformat": 4,
 "nbformat_minor": 1
}
